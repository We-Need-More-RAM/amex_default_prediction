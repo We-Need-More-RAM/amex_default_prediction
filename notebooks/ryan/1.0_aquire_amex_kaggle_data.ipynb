{
 "cells": [
  {
   "cell_type": "code",
   "execution_count": 1,
   "id": "777bd56c-61a2-49b7-a225-c8ce0a6ddc14",
   "metadata": {},
   "outputs": [],
   "source": [
    "import zipfile\n",
    "\n",
    "import os.path\n",
    "\n",
    "from kaggle.api.kaggle_api_extended import KaggleApi"
   ]
  },
  {
   "cell_type": "code",
   "execution_count": 2,
   "id": "c3a9bc1e-5c50-48ef-8371-b377315ebebb",
   "metadata": {},
   "outputs": [],
   "source": [
    "#Create api instance object\n",
    "api = KaggleApi()\n",
    "#Run authentication method so that the instance is authenticated\n",
    "api.authenticate()"
   ]
  },
  {
   "cell_type": "code",
   "execution_count": 3,
   "id": "bc438be2-066e-470e-8f98-c353e06db2a3",
   "metadata": {},
   "outputs": [
    {
     "name": "stdout",
     "output_type": "stream",
     "text": [
      "train_labels.csv.zip: Skipping, found more recently modified local copy (use --force to force download)\n",
      "train_data.csv.zip: Skipping, found more recently modified local copy (use --force to force download)\n"
     ]
    }
   ],
   "source": [
    "files_to_download = ['train_labels.csv', 'train_data.csv']\n",
    "\n",
    "storage_location = '../../data/raw'\n",
    "\n",
    "for file in files_to_download:\n",
    "    \n",
    "    api.competition_download_file(\n",
    "        competition='amex-default-prediction',\n",
    "        file_name=file,\n",
    "        path=storage_location\n",
    "    )\n",
    "    \n",
    "    if not os.path.isfile(storage_location + '/' + file): \n",
    "    \n",
    "        path_to_zip_file = storage_location + '/' + file + '.zip'\n",
    "\n",
    "        with zipfile.ZipFile(path_to_zip_file, 'r') as zip_ref:\n",
    "            zip_ref.extractall(storage_location)"
   ]
  }
 ],
 "metadata": {
  "kernelspec": {
   "display_name": "Python 3 (ipykernel)",
   "language": "python",
   "name": "python3"
  },
  "language_info": {
   "codemirror_mode": {
    "name": "ipython",
    "version": 3
   },
   "file_extension": ".py",
   "mimetype": "text/x-python",
   "name": "python",
   "nbconvert_exporter": "python",
   "pygments_lexer": "ipython3",
   "version": "3.9.12"
  }
 },
 "nbformat": 4,
 "nbformat_minor": 5
}
