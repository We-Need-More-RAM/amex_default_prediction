{
 "cells": [
  {
   "cell_type": "markdown",
   "id": "9ddab02f-593e-4b02-b51f-8113b7339661",
   "metadata": {},
   "source": [
    "# Testing Connecting to Kaggle API with Python\n",
    "\n",
    "[Unofficial Kaggle API Python Documentation](https://technowhisp.com/kaggle-api-python-documentation/)"
   ]
  },
  {
   "cell_type": "code",
   "execution_count": 7,
   "id": "dfdffffb-fe15-486f-983e-f5b81e583911",
   "metadata": {},
   "outputs": [],
   "source": [
    "from kaggle.api.kaggle_api_extended import KaggleApi\n",
    "\n",
    "import zipfile"
   ]
  },
  {
   "cell_type": "code",
   "execution_count": 1,
   "id": "3755a864-0a7c-47ba-bfd6-5b892dfd52a0",
   "metadata": {},
   "outputs": [],
   "source": [
    "api = KaggleApi()\n",
    "api.authenticate()"
   ]
  },
  {
   "cell_type": "code",
   "execution_count": 3,
   "id": "6b59b521-f36e-4409-86cf-da221bc35bde",
   "metadata": {},
   "outputs": [
    {
     "name": "stdout",
     "output_type": "stream",
     "text": [
      "contradictory-my-dear-watson,Prizes,0\n",
      "gan-getting-started,Prizes,0\n",
      "store-sales-time-series-forecasting,Knowledge,0\n",
      "tpu-getting-started,Knowledge,0\n",
      "digit-recognizer,Knowledge,0\n",
      "titanic,Knowledge,0\n",
      "house-prices-advanced-regression-techniques,Knowledge,0\n",
      "connectx,Knowledge,0\n",
      "nlp-getting-started,Knowledge,0\n",
      "spaceship-titanic,Knowledge,0\n",
      "competitive-data-science-predict-future-sales,Kudos,0\n",
      "hubmap-organ-segmentation,$60,000,0\n",
      "amex-default-prediction,$100,000,0\n",
      "feedback-prize-effectiveness,$55,000,0\n",
      "AI4Code,$150,000,0\n",
      "smartphone-decimeter-2022,$10,000,0\n",
      "ubiquant-market-prediction,$100,000,0\n",
      "uw-madison-gi-tract-image-segmentation,$25,000,0\n",
      "kore-2022,$15,000,0\n",
      "foursquare-location-matching,$25,000,0\n"
     ]
    }
   ],
   "source": [
    "# Searching competitions\n",
    "# Signature: competitions_list(group=None, category=None, sort_by=None, page=1, search=None)\n",
    "competitions = api.competitions_list()\n",
    "\n",
    "# competitions is a list of competition objects.\n",
    "# iterate though each item to access individual competition\n",
    "for comp in competitions:\n",
    "    print(comp.ref,comp.reward,comp.userRank,sep=',')"
   ]
  },
  {
   "cell_type": "code",
   "execution_count": 4,
   "id": "ed261c9d-9e55-4f7e-b434-0a487282e4ce",
   "metadata": {},
   "outputs": [
    {
     "data": {
      "text/plain": [
       "[{'nameNullable': 'test_data.csv',\n",
       "  'descriptionNullable': None,\n",
       "  'urlNullable': 'https://www.kaggle.com/',\n",
       "  'ref': 'test_data.csv',\n",
       "  'name': 'test_data.csv',\n",
       "  'hasName': True,\n",
       "  'description': '',\n",
       "  'hasDescription': False,\n",
       "  'totalBytes': 33824849227,\n",
       "  'url': 'https://www.kaggle.com/',\n",
       "  'hasUrl': True,\n",
       "  'creationDate': '2022-05-20T17:31:58.7664498Z'},\n",
       " {'nameNullable': 'sample_submission.csv',\n",
       "  'descriptionNullable': None,\n",
       "  'urlNullable': 'https://www.kaggle.com/',\n",
       "  'ref': 'sample_submission.csv',\n",
       "  'name': 'sample_submission.csv',\n",
       "  'hasName': True,\n",
       "  'description': '',\n",
       "  'hasDescription': False,\n",
       "  'totalBytes': 61949630,\n",
       "  'url': 'https://www.kaggle.com/',\n",
       "  'hasUrl': True,\n",
       "  'creationDate': '2022-05-20T17:31:58.7664498Z'},\n",
       " {'nameNullable': 'train_labels.csv',\n",
       "  'descriptionNullable': None,\n",
       "  'urlNullable': 'https://www.kaggle.com/',\n",
       "  'ref': 'train_labels.csv',\n",
       "  'name': 'train_labels.csv',\n",
       "  'hasName': True,\n",
       "  'description': '',\n",
       "  'hasDescription': False,\n",
       "  'totalBytes': 30747190,\n",
       "  'url': 'https://www.kaggle.com/',\n",
       "  'hasUrl': True,\n",
       "  'creationDate': '2022-05-20T17:31:58.7664498Z'},\n",
       " {'nameNullable': 'train_data.csv',\n",
       "  'descriptionNullable': None,\n",
       "  'urlNullable': 'https://www.kaggle.com/',\n",
       "  'ref': 'train_data.csv',\n",
       "  'name': 'train_data.csv',\n",
       "  'hasName': True,\n",
       "  'description': '',\n",
       "  'hasDescription': False,\n",
       "  'totalBytes': 16393283688,\n",
       "  'url': 'https://www.kaggle.com/',\n",
       "  'hasUrl': True,\n",
       "  'creationDate': '2022-05-20T17:31:58.7664498Z'}]"
      ]
     },
     "execution_count": 4,
     "metadata": {},
     "output_type": "execute_result"
    }
   ],
   "source": [
    "api.competitions_data_list_files('amex-default-prediction')"
   ]
  },
  {
   "cell_type": "code",
   "execution_count": 5,
   "id": "461c51e0-ba86-4c16-9b8b-649f39f6bbea",
   "metadata": {},
   "outputs": [
    {
     "name": "stdout",
     "output_type": "stream",
     "text": [
      "Downloading sample_submission.csv.zip to /Users/ryanmccall/codeup/data_science/personal/we_need_more_RAM/amex_default_prediction/notebooks/ryan\n"
     ]
    },
    {
     "name": "stderr",
     "output_type": "stream",
     "text": [
      "100%|█████████████████████████████████████████████████████| 32.4M/32.4M [00:04<00:00, 7.71MB/s]"
     ]
    },
    {
     "name": "stdout",
     "output_type": "stream",
     "text": [
      "\n"
     ]
    },
    {
     "name": "stderr",
     "output_type": "stream",
     "text": [
      "\n"
     ]
    }
   ],
   "source": [
    "api.competition_download_file('amex-default-prediction','sample_submission.csv') "
   ]
  },
  {
   "cell_type": "code",
   "execution_count": 8,
   "id": "52844aa4-443f-4b91-9067-4c5b4b88c520",
   "metadata": {},
   "outputs": [],
   "source": [
    "path_to_zip_file = 'sample_submission.csv.zip'\n",
    "\n",
    "with zipfile.ZipFile(path_to_zip_file, 'r') as zip_ref:\n",
    "    zip_ref.extractall('.')"
   ]
  }
 ],
 "metadata": {
  "kernelspec": {
   "display_name": "Python 3 (ipykernel)",
   "language": "python",
   "name": "python3"
  },
  "language_info": {
   "codemirror_mode": {
    "name": "ipython",
    "version": 3
   },
   "file_extension": ".py",
   "mimetype": "text/x-python",
   "name": "python",
   "nbconvert_exporter": "python",
   "pygments_lexer": "ipython3",
   "version": "3.9.12"
  }
 },
 "nbformat": 4,
 "nbformat_minor": 5
}
