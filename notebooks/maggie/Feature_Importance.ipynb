{
 "cells": [
  {
   "cell_type": "markdown",
   "id": "6016fd64",
   "metadata": {},
   "source": [
    "This notebook is for analyzing the feature importance based on the Gain metric from the best performing XGBoost model at this point. \n",
    "The goal is to identify the raw features that are providing the most information to the model as a way to reduce the number of features and thus the dimensionality. In doing that, we can focus on generating new features from the most influential and decrease performance time. "
   ]
  },
  {
   "cell_type": "code",
   "execution_count": 1,
   "id": "9cb8338a",
   "metadata": {},
   "outputs": [],
   "source": [
    "import pandas as pd\n",
    "import matplotlib.pyplot as plt\n",
    "import seaborn as sns\n",
    "import numpy as np"
   ]
  },
  {
   "cell_type": "code",
   "execution_count": 39,
   "id": "867ff2a7",
   "metadata": {},
   "outputs": [],
   "source": [
    "df = pd.read_csv('model8_feature_scores.csv')"
   ]
  },
  {
   "cell_type": "code",
   "execution_count": 40,
   "id": "49d643e7",
   "metadata": {},
   "outputs": [],
   "source": [
    "df['raw_feature'] = df['0'].replace(to_replace = '_[a-z]+$', value = '', regex=True)"
   ]
  },
  {
   "cell_type": "code",
   "execution_count": 41,
   "id": "6a7f60ca",
   "metadata": {},
   "outputs": [
    {
     "data": {
      "text/plain": [
       "Index(['D_77', 'B_14', 'R_21', 'S_24', 'B_40', 'D_79', 'D_120', 'S_26', 'D_46',\n",
       "       'D_42', 'S_8', 'D_54', 'D_70', 'R_11', 'S_15', 'R_26', 'B_10', 'B_11',\n",
       "       'S_25', 'D_47', 'R_2', 'D_50', 'D_48', 'B_8', 'R_27', 'D_39', 'R_6',\n",
       "       'S_23', 'B_37', 'S_13', 'D_49', 'B_23', 'B_2', 'D_62', 'B_1', 'D_51',\n",
       "       'D_65', 'B_4', 'B_3', 'D_41', 'R_3', 'D_45', 'S_3', 'D_44', 'B_7',\n",
       "       'R_1', 'B_18', 'D_75', 'P_2', 'B_9'],\n",
       "      dtype='object', name='raw_feature')"
      ]
     },
     "execution_count": 41,
     "metadata": {},
     "output_type": "execute_result"
    }
   ],
   "source": [
    "df.groupby('raw_feature').sum().sort_values(by='gain').tail(50).index"
   ]
  },
  {
   "cell_type": "code",
   "execution_count": null,
   "id": "0b9a6112",
   "metadata": {},
   "outputs": [],
   "source": []
  }
 ],
 "metadata": {
  "kernelspec": {
   "display_name": "Python 3",
   "language": "python",
   "name": "python3"
  },
  "language_info": {
   "codemirror_mode": {
    "name": "ipython",
    "version": 3
   },
   "file_extension": ".py",
   "mimetype": "text/x-python",
   "name": "python",
   "nbconvert_exporter": "python",
   "pygments_lexer": "ipython3",
   "version": "3.8.8"
  }
 },
 "nbformat": 4,
 "nbformat_minor": 5
}
