{
 "cells": [
  {
   "cell_type": "markdown",
   "id": "b4dbc50a",
   "metadata": {},
   "source": [
    "The purpose of this notebook is to investigate the relative importance of the features used to train xgboost. Over 1200 features were passed into the model, and only about 600 were used at any point in the model. I want to see how many of the original 188 features were used at least once. It may be beneficial to remove any original features with 0 contributions to cut down on time spent engineering the features and training the model."
   ]
  },
  {
   "cell_type": "code",
   "execution_count": 1,
   "id": "c5d75a12",
   "metadata": {},
   "outputs": [
    {
     "data": {
      "application/javascript": [
       "IPython.notebook.set_autosave_interval(0)"
      ]
     },
     "metadata": {},
     "output_type": "display_data"
    },
    {
     "name": "stdout",
     "output_type": "stream",
     "text": [
      "Autosave disabled\n"
     ]
    }
   ],
   "source": [
    "%autosave 0"
   ]
  },
  {
   "cell_type": "code",
   "execution_count": 2,
   "id": "797fa7df",
   "metadata": {},
   "outputs": [],
   "source": [
    "import pandas as pd\n",
    "import numpy as np\n",
    "import matplotlib.pyplot as plt\n",
    "import seaborn as sns"
   ]
  },
  {
   "cell_type": "code",
   "execution_count": 4,
   "id": "d24ec1c1",
   "metadata": {},
   "outputs": [
    {
     "data": {
      "text/html": [
       "<div>\n",
       "<style scoped>\n",
       "    .dataframe tbody tr th:only-of-type {\n",
       "        vertical-align: middle;\n",
       "    }\n",
       "\n",
       "    .dataframe tbody tr th {\n",
       "        vertical-align: top;\n",
       "    }\n",
       "\n",
       "    .dataframe thead th {\n",
       "        text-align: right;\n",
       "    }\n",
       "</style>\n",
       "<table border=\"1\" class=\"dataframe\">\n",
       "  <thead>\n",
       "    <tr style=\"text-align: right;\">\n",
       "      <th></th>\n",
       "      <th>weight</th>\n",
       "      <th>gain</th>\n",
       "      <th>cover</th>\n",
       "      <th>total_gain</th>\n",
       "      <th>total_cover</th>\n",
       "    </tr>\n",
       "    <tr>\n",
       "      <th>0</th>\n",
       "      <th></th>\n",
       "      <th></th>\n",
       "      <th></th>\n",
       "      <th></th>\n",
       "      <th></th>\n",
       "    </tr>\n",
       "  </thead>\n",
       "  <tbody>\n",
       "    <tr>\n",
       "      <th>P_2_min</th>\n",
       "      <td>24.0</td>\n",
       "      <td>1046.174927</td>\n",
       "      <td>3564.391602</td>\n",
       "      <td>25108.199219</td>\n",
       "      <td>85545.398438</td>\n",
       "    </tr>\n",
       "    <tr>\n",
       "      <th>P_2_max</th>\n",
       "      <td>3.0</td>\n",
       "      <td>16.868271</td>\n",
       "      <td>1446.203491</td>\n",
       "      <td>50.604813</td>\n",
       "      <td>4338.610352</td>\n",
       "    </tr>\n",
       "    <tr>\n",
       "      <th>P_2_median</th>\n",
       "      <td>14.0</td>\n",
       "      <td>378.496765</td>\n",
       "      <td>2358.535889</td>\n",
       "      <td>5298.954590</td>\n",
       "      <td>33019.503906</td>\n",
       "    </tr>\n",
       "    <tr>\n",
       "      <th>P_2_std</th>\n",
       "      <td>1.0</td>\n",
       "      <td>10.919077</td>\n",
       "      <td>131.254517</td>\n",
       "      <td>10.919077</td>\n",
       "      <td>131.254517</td>\n",
       "    </tr>\n",
       "    <tr>\n",
       "      <th>P_2_last</th>\n",
       "      <td>57.0</td>\n",
       "      <td>606.084595</td>\n",
       "      <td>2461.301758</td>\n",
       "      <td>34546.820312</td>\n",
       "      <td>140294.203125</td>\n",
       "    </tr>\n",
       "  </tbody>\n",
       "</table>\n",
       "</div>"
      ],
      "text/plain": [
       "            weight         gain        cover    total_gain    total_cover\n",
       "0                                                                        \n",
       "P_2_min       24.0  1046.174927  3564.391602  25108.199219   85545.398438\n",
       "P_2_max        3.0    16.868271  1446.203491     50.604813    4338.610352\n",
       "P_2_median    14.0   378.496765  2358.535889   5298.954590   33019.503906\n",
       "P_2_std        1.0    10.919077   131.254517     10.919077     131.254517\n",
       "P_2_last      57.0   606.084595  2461.301758  34546.820312  140294.203125"
      ]
     },
     "execution_count": 4,
     "metadata": {},
     "output_type": "execute_result"
    }
   ],
   "source": [
    "df = pd.read_csv('model8_feature_scores.csv', index_col=0)\n",
    "df.head()"
   ]
  },
  {
   "cell_type": "code",
   "execution_count": 5,
   "id": "dd59e995",
   "metadata": {},
   "outputs": [
    {
     "data": {
      "text/plain": [
       "(619, 5)"
      ]
     },
     "execution_count": 5,
     "metadata": {},
     "output_type": "execute_result"
    }
   ],
   "source": [
    "df.shape"
   ]
  },
  {
   "cell_type": "code",
   "execution_count": 6,
   "id": "9609afd1",
   "metadata": {},
   "outputs": [
    {
     "data": {
      "text/plain": [
       "Index(['P_2_min', 'P_2_max', 'P_2_median', 'P_2_std', 'P_2_last', 'P_2_change',\n",
       "       'D_39_min', 'D_39_max', 'D_39_std', 'D_39_last',\n",
       "       ...\n",
       "       'D_64_O', 'S_3_nulls', 'D_42_nulls', 'D_49_nulls', 'D_56_nulls',\n",
       "       'B_29_nulls', 'D_106_nulls', 'R_26_nulls', 'R_27_nulls', 'D_137_nulls'],\n",
       "      dtype='object', name='0', length=619)"
      ]
     },
     "execution_count": 6,
     "metadata": {},
     "output_type": "execute_result"
    }
   ],
   "source": [
    "df.index"
   ]
  },
  {
   "cell_type": "code",
   "execution_count": 14,
   "id": "a1d4c4ea",
   "metadata": {},
   "outputs": [],
   "source": [
    "df.reset_index(inplace=True)"
   ]
  },
  {
   "cell_type": "code",
   "execution_count": 19,
   "id": "0ee9f7cc",
   "metadata": {},
   "outputs": [],
   "source": [
    "df_split = df['0'].str.split('_', expand=True)"
   ]
  },
  {
   "cell_type": "code",
   "execution_count": 20,
   "id": "22da07c7",
   "metadata": {},
   "outputs": [
    {
     "data": {
      "text/html": [
       "<div>\n",
       "<style scoped>\n",
       "    .dataframe tbody tr th:only-of-type {\n",
       "        vertical-align: middle;\n",
       "    }\n",
       "\n",
       "    .dataframe tbody tr th {\n",
       "        vertical-align: top;\n",
       "    }\n",
       "\n",
       "    .dataframe thead th {\n",
       "        text-align: right;\n",
       "    }\n",
       "</style>\n",
       "<table border=\"1\" class=\"dataframe\">\n",
       "  <thead>\n",
       "    <tr style=\"text-align: right;\">\n",
       "      <th></th>\n",
       "      <th>0</th>\n",
       "      <th>1</th>\n",
       "      <th>2</th>\n",
       "    </tr>\n",
       "  </thead>\n",
       "  <tbody>\n",
       "    <tr>\n",
       "      <th>0</th>\n",
       "      <td>P</td>\n",
       "      <td>2</td>\n",
       "      <td>min</td>\n",
       "    </tr>\n",
       "    <tr>\n",
       "      <th>1</th>\n",
       "      <td>P</td>\n",
       "      <td>2</td>\n",
       "      <td>max</td>\n",
       "    </tr>\n",
       "    <tr>\n",
       "      <th>2</th>\n",
       "      <td>P</td>\n",
       "      <td>2</td>\n",
       "      <td>median</td>\n",
       "    </tr>\n",
       "    <tr>\n",
       "      <th>3</th>\n",
       "      <td>P</td>\n",
       "      <td>2</td>\n",
       "      <td>std</td>\n",
       "    </tr>\n",
       "    <tr>\n",
       "      <th>4</th>\n",
       "      <td>P</td>\n",
       "      <td>2</td>\n",
       "      <td>last</td>\n",
       "    </tr>\n",
       "  </tbody>\n",
       "</table>\n",
       "</div>"
      ],
      "text/plain": [
       "   0  1       2\n",
       "0  P  2     min\n",
       "1  P  2     max\n",
       "2  P  2  median\n",
       "3  P  2     std\n",
       "4  P  2    last"
      ]
     },
     "execution_count": 20,
     "metadata": {},
     "output_type": "execute_result"
    }
   ],
   "source": [
    "df_split.head()"
   ]
  },
  {
   "cell_type": "code",
   "execution_count": 22,
   "id": "6e4f8af1",
   "metadata": {},
   "outputs": [
    {
     "data": {
      "text/plain": [
       "RangeIndex(start=0, stop=3, step=1)"
      ]
     },
     "execution_count": 22,
     "metadata": {},
     "output_type": "execute_result"
    }
   ],
   "source": [
    "df_split.columns"
   ]
  },
  {
   "cell_type": "code",
   "execution_count": 23,
   "id": "54c7c4b0",
   "metadata": {},
   "outputs": [],
   "source": [
    "df_split['original_feature'] = df_split[0] + '_' + df_split[1]"
   ]
  },
  {
   "cell_type": "code",
   "execution_count": 24,
   "id": "d2a5a2b9",
   "metadata": {},
   "outputs": [
    {
     "data": {
      "text/html": [
       "<div>\n",
       "<style scoped>\n",
       "    .dataframe tbody tr th:only-of-type {\n",
       "        vertical-align: middle;\n",
       "    }\n",
       "\n",
       "    .dataframe tbody tr th {\n",
       "        vertical-align: top;\n",
       "    }\n",
       "\n",
       "    .dataframe thead th {\n",
       "        text-align: right;\n",
       "    }\n",
       "</style>\n",
       "<table border=\"1\" class=\"dataframe\">\n",
       "  <thead>\n",
       "    <tr style=\"text-align: right;\">\n",
       "      <th></th>\n",
       "      <th>0</th>\n",
       "      <th>1</th>\n",
       "      <th>2</th>\n",
       "      <th>original_feature</th>\n",
       "    </tr>\n",
       "  </thead>\n",
       "  <tbody>\n",
       "    <tr>\n",
       "      <th>0</th>\n",
       "      <td>P</td>\n",
       "      <td>2</td>\n",
       "      <td>min</td>\n",
       "      <td>P_2</td>\n",
       "    </tr>\n",
       "    <tr>\n",
       "      <th>1</th>\n",
       "      <td>P</td>\n",
       "      <td>2</td>\n",
       "      <td>max</td>\n",
       "      <td>P_2</td>\n",
       "    </tr>\n",
       "    <tr>\n",
       "      <th>2</th>\n",
       "      <td>P</td>\n",
       "      <td>2</td>\n",
       "      <td>median</td>\n",
       "      <td>P_2</td>\n",
       "    </tr>\n",
       "    <tr>\n",
       "      <th>3</th>\n",
       "      <td>P</td>\n",
       "      <td>2</td>\n",
       "      <td>std</td>\n",
       "      <td>P_2</td>\n",
       "    </tr>\n",
       "    <tr>\n",
       "      <th>4</th>\n",
       "      <td>P</td>\n",
       "      <td>2</td>\n",
       "      <td>last</td>\n",
       "      <td>P_2</td>\n",
       "    </tr>\n",
       "  </tbody>\n",
       "</table>\n",
       "</div>"
      ],
      "text/plain": [
       "   0  1       2 original_feature\n",
       "0  P  2     min              P_2\n",
       "1  P  2     max              P_2\n",
       "2  P  2  median              P_2\n",
       "3  P  2     std              P_2\n",
       "4  P  2    last              P_2"
      ]
     },
     "execution_count": 24,
     "metadata": {},
     "output_type": "execute_result"
    }
   ],
   "source": [
    "df_split.head()"
   ]
  },
  {
   "cell_type": "code",
   "execution_count": 27,
   "id": "d7025bb1",
   "metadata": {},
   "outputs": [
    {
     "data": {
      "text/plain": [
       "array(['P_2', 'D_39', 'B_1', 'B_2', 'R_1', 'S_3', 'D_41', 'B_3', 'D_42',\n",
       "       'D_43', 'D_44', 'B_4', 'D_45', 'B_5', 'R_2', 'D_46', 'D_47',\n",
       "       'D_48', 'D_49', 'B_6', 'B_7', 'B_8', 'D_50', 'D_51', 'B_9', 'R_3',\n",
       "       'D_52', 'P_3', 'B_10', 'D_53', 'S_5', 'B_11', 'S_6', 'D_54', 'R_4',\n",
       "       'S_7', 'B_12', 'S_8', 'D_55', 'D_56', 'B_13', 'R_5', 'D_58', 'S_9',\n",
       "       'B_14', 'D_59', 'D_60', 'D_61', 'B_15', 'S_11', 'D_62', 'D_65',\n",
       "       'B_16', 'B_17', 'B_18', 'B_19', 'B_20', 'S_12', 'R_6', 'S_13',\n",
       "       'B_21', 'D_69', 'B_22', 'D_70', 'D_71', 'D_72', 'S_15', 'B_23',\n",
       "       'P_4', 'D_74', 'D_75', 'B_24', 'R_7', 'D_77', 'B_25', 'B_26',\n",
       "       'D_78', 'D_79', 'R_8', 'R_9', 'S_16', 'D_80', 'R_10', 'R_11',\n",
       "       'B_27', 'D_81', 'D_82', 'S_17', 'R_12', 'B_28', 'R_13', 'R_14',\n",
       "       'R_15', 'D_84', 'R_16', 'B_29', 'S_18', 'D_86', 'R_18', 'D_88',\n",
       "       'S_19', 'R_19', 'B_32', 'S_20', 'R_20', 'R_21', 'B_33', 'D_89',\n",
       "       'R_22', 'R_23', 'D_91', 'D_92', 'D_93', 'D_94', 'R_24', 'R_25',\n",
       "       'D_96', 'S_23', 'S_24', 'S_25', 'S_26', 'D_102', 'D_103', 'D_105',\n",
       "       'D_106', 'D_107', 'B_36', 'B_37', 'R_26', 'R_27', 'D_110', 'D_111',\n",
       "       'B_39', 'D_112', 'B_40', 'S_27', 'D_113', 'D_115', 'D_118',\n",
       "       'D_119', 'D_121', 'D_122', 'D_123', 'D_124', 'D_125', 'D_127',\n",
       "       'D_128', 'D_129', 'B_41', 'D_130', 'D_131', 'D_132', 'D_133',\n",
       "       'R_28', 'D_136', 'D_137', 'D_139', 'D_140', 'D_141', 'D_142',\n",
       "       'D_143', 'D_144', 'D_145', 'D_120', 'D_66', 'D_63', 'D_64'],\n",
       "      dtype=object)"
      ]
     },
     "execution_count": 27,
     "metadata": {},
     "output_type": "execute_result"
    }
   ],
   "source": [
    "df_split.original_feature.unique()"
   ]
  },
  {
   "cell_type": "code",
   "execution_count": 41,
   "id": "34156b9f",
   "metadata": {},
   "outputs": [],
   "source": [
    "relevant_columns = list(df_split.original_feature.unique())"
   ]
  },
  {
   "cell_type": "code",
   "execution_count": 28,
   "id": "17bd883c",
   "metadata": {},
   "outputs": [
    {
     "data": {
      "text/plain": [
       "167"
      ]
     },
     "execution_count": 28,
     "metadata": {},
     "output_type": "execute_result"
    }
   ],
   "source": [
    "df_split.original_feature.nunique()"
   ]
  },
  {
   "cell_type": "code",
   "execution_count": 30,
   "id": "8277bd1d",
   "metadata": {},
   "outputs": [
    {
     "data": {
      "text/html": [
       "<div>\n",
       "<style scoped>\n",
       "    .dataframe tbody tr th:only-of-type {\n",
       "        vertical-align: middle;\n",
       "    }\n",
       "\n",
       "    .dataframe tbody tr th {\n",
       "        vertical-align: top;\n",
       "    }\n",
       "\n",
       "    .dataframe thead th {\n",
       "        text-align: right;\n",
       "    }\n",
       "</style>\n",
       "<table border=\"1\" class=\"dataframe\">\n",
       "  <thead>\n",
       "    <tr style=\"text-align: right;\">\n",
       "      <th></th>\n",
       "      <th>0</th>\n",
       "      <th>weight</th>\n",
       "      <th>gain</th>\n",
       "      <th>cover</th>\n",
       "      <th>total_gain</th>\n",
       "      <th>total_cover</th>\n",
       "    </tr>\n",
       "  </thead>\n",
       "  <tbody>\n",
       "    <tr>\n",
       "      <th>172</th>\n",
       "      <td>B_12_change</td>\n",
       "      <td>1.0</td>\n",
       "      <td>0.004311</td>\n",
       "      <td>15.389643</td>\n",
       "      <td>0.004311</td>\n",
       "      <td>15.389643</td>\n",
       "    </tr>\n",
       "    <tr>\n",
       "      <th>234</th>\n",
       "      <td>D_62_change</td>\n",
       "      <td>1.0</td>\n",
       "      <td>0.291788</td>\n",
       "      <td>13.999965</td>\n",
       "      <td>0.291788</td>\n",
       "      <td>13.999965</td>\n",
       "    </tr>\n",
       "    <tr>\n",
       "      <th>144</th>\n",
       "      <td>D_53_median</td>\n",
       "      <td>1.0</td>\n",
       "      <td>0.383034</td>\n",
       "      <td>8.202533</td>\n",
       "      <td>0.383034</td>\n",
       "      <td>8.202533</td>\n",
       "    </tr>\n",
       "    <tr>\n",
       "      <th>482</th>\n",
       "      <td>D_103_max</td>\n",
       "      <td>1.0</td>\n",
       "      <td>0.943039</td>\n",
       "      <td>20.933578</td>\n",
       "      <td>0.943039</td>\n",
       "      <td>20.933578</td>\n",
       "    </tr>\n",
       "    <tr>\n",
       "      <th>365</th>\n",
       "      <td>D_81_change</td>\n",
       "      <td>1.0</td>\n",
       "      <td>1.111147</td>\n",
       "      <td>11.692972</td>\n",
       "      <td>1.111147</td>\n",
       "      <td>11.692972</td>\n",
       "    </tr>\n",
       "    <tr>\n",
       "      <th>...</th>\n",
       "      <td>...</td>\n",
       "      <td>...</td>\n",
       "      <td>...</td>\n",
       "      <td>...</td>\n",
       "      <td>...</td>\n",
       "      <td>...</td>\n",
       "    </tr>\n",
       "    <tr>\n",
       "      <th>250</th>\n",
       "      <td>B_18_last</td>\n",
       "      <td>4.0</td>\n",
       "      <td>1508.544678</td>\n",
       "      <td>3608.366699</td>\n",
       "      <td>6034.178711</td>\n",
       "      <td>14433.466797</td>\n",
       "    </tr>\n",
       "    <tr>\n",
       "      <th>120</th>\n",
       "      <td>B_9_max</td>\n",
       "      <td>4.0</td>\n",
       "      <td>1725.645752</td>\n",
       "      <td>3515.094238</td>\n",
       "      <td>6902.583008</td>\n",
       "      <td>14060.376953</td>\n",
       "    </tr>\n",
       "    <tr>\n",
       "      <th>122</th>\n",
       "      <td>B_9_last</td>\n",
       "      <td>5.0</td>\n",
       "      <td>1930.199829</td>\n",
       "      <td>4813.571289</td>\n",
       "      <td>9650.999023</td>\n",
       "      <td>24067.855469</td>\n",
       "    </tr>\n",
       "    <tr>\n",
       "      <th>0</th>\n",
       "      <td>P_2_min</td>\n",
       "      <td>24.0</td>\n",
       "      <td>1046.174927</td>\n",
       "      <td>3564.391602</td>\n",
       "      <td>25108.199219</td>\n",
       "      <td>85545.398438</td>\n",
       "    </tr>\n",
       "    <tr>\n",
       "      <th>4</th>\n",
       "      <td>P_2_last</td>\n",
       "      <td>57.0</td>\n",
       "      <td>606.084595</td>\n",
       "      <td>2461.301758</td>\n",
       "      <td>34546.820312</td>\n",
       "      <td>140294.203125</td>\n",
       "    </tr>\n",
       "  </tbody>\n",
       "</table>\n",
       "<p>619 rows × 6 columns</p>\n",
       "</div>"
      ],
      "text/plain": [
       "               0  weight         gain        cover    total_gain  \\\n",
       "172  B_12_change     1.0     0.004311    15.389643      0.004311   \n",
       "234  D_62_change     1.0     0.291788    13.999965      0.291788   \n",
       "144  D_53_median     1.0     0.383034     8.202533      0.383034   \n",
       "482    D_103_max     1.0     0.943039    20.933578      0.943039   \n",
       "365  D_81_change     1.0     1.111147    11.692972      1.111147   \n",
       "..           ...     ...          ...          ...           ...   \n",
       "250    B_18_last     4.0  1508.544678  3608.366699   6034.178711   \n",
       "120      B_9_max     4.0  1725.645752  3515.094238   6902.583008   \n",
       "122     B_9_last     5.0  1930.199829  4813.571289   9650.999023   \n",
       "0        P_2_min    24.0  1046.174927  3564.391602  25108.199219   \n",
       "4       P_2_last    57.0   606.084595  2461.301758  34546.820312   \n",
       "\n",
       "       total_cover  \n",
       "172      15.389643  \n",
       "234      13.999965  \n",
       "144       8.202533  \n",
       "482      20.933578  \n",
       "365      11.692972  \n",
       "..             ...  \n",
       "250   14433.466797  \n",
       "120   14060.376953  \n",
       "122   24067.855469  \n",
       "0     85545.398438  \n",
       "4    140294.203125  \n",
       "\n",
       "[619 rows x 6 columns]"
      ]
     },
     "execution_count": 30,
     "metadata": {},
     "output_type": "execute_result"
    }
   ],
   "source": [
    "df.sort_values('total_gain')"
   ]
  },
  {
   "cell_type": "code",
   "execution_count": 32,
   "id": "1d427414",
   "metadata": {},
   "outputs": [],
   "source": [
    "df_train = pd.read_csv('../../data/prepared/train_data.csv', nrows=10)"
   ]
  },
  {
   "cell_type": "code",
   "execution_count": 33,
   "id": "1d30874a",
   "metadata": {
    "scrolled": true
   },
   "outputs": [
    {
     "data": {
      "text/html": [
       "<div>\n",
       "<style scoped>\n",
       "    .dataframe tbody tr th:only-of-type {\n",
       "        vertical-align: middle;\n",
       "    }\n",
       "\n",
       "    .dataframe tbody tr th {\n",
       "        vertical-align: top;\n",
       "    }\n",
       "\n",
       "    .dataframe thead th {\n",
       "        text-align: right;\n",
       "    }\n",
       "</style>\n",
       "<table border=\"1\" class=\"dataframe\">\n",
       "  <thead>\n",
       "    <tr style=\"text-align: right;\">\n",
       "      <th></th>\n",
       "      <th>customer_ID</th>\n",
       "      <th>S_2</th>\n",
       "      <th>P_2</th>\n",
       "      <th>D_39</th>\n",
       "      <th>B_1</th>\n",
       "      <th>B_2</th>\n",
       "      <th>R_1</th>\n",
       "      <th>S_3</th>\n",
       "      <th>D_41</th>\n",
       "      <th>B_3</th>\n",
       "      <th>...</th>\n",
       "      <th>D_136</th>\n",
       "      <th>D_137</th>\n",
       "      <th>D_138</th>\n",
       "      <th>D_139</th>\n",
       "      <th>D_140</th>\n",
       "      <th>D_141</th>\n",
       "      <th>D_142</th>\n",
       "      <th>D_143</th>\n",
       "      <th>D_144</th>\n",
       "      <th>D_145</th>\n",
       "    </tr>\n",
       "  </thead>\n",
       "  <tbody>\n",
       "    <tr>\n",
       "      <th>0</th>\n",
       "      <td>0000099d6bd597052cdcda90ffabf56573fe9d7c79be5f...</td>\n",
       "      <td>2017-03-09</td>\n",
       "      <td>0.938469</td>\n",
       "      <td>0.001733</td>\n",
       "      <td>0.008724</td>\n",
       "      <td>1.006838</td>\n",
       "      <td>0.009228</td>\n",
       "      <td>0.124035</td>\n",
       "      <td>0.008771</td>\n",
       "      <td>0.004709</td>\n",
       "      <td>...</td>\n",
       "      <td>NaN</td>\n",
       "      <td>NaN</td>\n",
       "      <td>NaN</td>\n",
       "      <td>0.002427</td>\n",
       "      <td>0.003706</td>\n",
       "      <td>0.003818</td>\n",
       "      <td>NaN</td>\n",
       "      <td>0.000569</td>\n",
       "      <td>0.000610</td>\n",
       "      <td>0.002674</td>\n",
       "    </tr>\n",
       "    <tr>\n",
       "      <th>1</th>\n",
       "      <td>0000099d6bd597052cdcda90ffabf56573fe9d7c79be5f...</td>\n",
       "      <td>2017-04-07</td>\n",
       "      <td>0.936665</td>\n",
       "      <td>0.005775</td>\n",
       "      <td>0.004923</td>\n",
       "      <td>1.000653</td>\n",
       "      <td>0.006151</td>\n",
       "      <td>0.126750</td>\n",
       "      <td>0.000798</td>\n",
       "      <td>0.002714</td>\n",
       "      <td>...</td>\n",
       "      <td>NaN</td>\n",
       "      <td>NaN</td>\n",
       "      <td>NaN</td>\n",
       "      <td>0.003954</td>\n",
       "      <td>0.003167</td>\n",
       "      <td>0.005032</td>\n",
       "      <td>NaN</td>\n",
       "      <td>0.009576</td>\n",
       "      <td>0.005492</td>\n",
       "      <td>0.009217</td>\n",
       "    </tr>\n",
       "    <tr>\n",
       "      <th>2</th>\n",
       "      <td>0000099d6bd597052cdcda90ffabf56573fe9d7c79be5f...</td>\n",
       "      <td>2017-05-28</td>\n",
       "      <td>0.954180</td>\n",
       "      <td>0.091505</td>\n",
       "      <td>0.021655</td>\n",
       "      <td>1.009672</td>\n",
       "      <td>0.006815</td>\n",
       "      <td>0.123977</td>\n",
       "      <td>0.007598</td>\n",
       "      <td>0.009423</td>\n",
       "      <td>...</td>\n",
       "      <td>NaN</td>\n",
       "      <td>NaN</td>\n",
       "      <td>NaN</td>\n",
       "      <td>0.003269</td>\n",
       "      <td>0.007329</td>\n",
       "      <td>0.000427</td>\n",
       "      <td>NaN</td>\n",
       "      <td>0.003429</td>\n",
       "      <td>0.006986</td>\n",
       "      <td>0.002603</td>\n",
       "    </tr>\n",
       "    <tr>\n",
       "      <th>3</th>\n",
       "      <td>0000099d6bd597052cdcda90ffabf56573fe9d7c79be5f...</td>\n",
       "      <td>2017-06-13</td>\n",
       "      <td>0.960384</td>\n",
       "      <td>0.002455</td>\n",
       "      <td>0.013683</td>\n",
       "      <td>1.002700</td>\n",
       "      <td>0.001373</td>\n",
       "      <td>0.117169</td>\n",
       "      <td>0.000685</td>\n",
       "      <td>0.005531</td>\n",
       "      <td>...</td>\n",
       "      <td>NaN</td>\n",
       "      <td>NaN</td>\n",
       "      <td>NaN</td>\n",
       "      <td>0.006117</td>\n",
       "      <td>0.004516</td>\n",
       "      <td>0.003200</td>\n",
       "      <td>NaN</td>\n",
       "      <td>0.008419</td>\n",
       "      <td>0.006527</td>\n",
       "      <td>0.009600</td>\n",
       "    </tr>\n",
       "    <tr>\n",
       "      <th>4</th>\n",
       "      <td>0000099d6bd597052cdcda90ffabf56573fe9d7c79be5f...</td>\n",
       "      <td>2017-07-16</td>\n",
       "      <td>0.947248</td>\n",
       "      <td>0.002483</td>\n",
       "      <td>0.015193</td>\n",
       "      <td>1.000727</td>\n",
       "      <td>0.007605</td>\n",
       "      <td>0.117325</td>\n",
       "      <td>0.004653</td>\n",
       "      <td>0.009312</td>\n",
       "      <td>...</td>\n",
       "      <td>NaN</td>\n",
       "      <td>NaN</td>\n",
       "      <td>NaN</td>\n",
       "      <td>0.003671</td>\n",
       "      <td>0.004946</td>\n",
       "      <td>0.008889</td>\n",
       "      <td>NaN</td>\n",
       "      <td>0.001670</td>\n",
       "      <td>0.008126</td>\n",
       "      <td>0.009827</td>\n",
       "    </tr>\n",
       "  </tbody>\n",
       "</table>\n",
       "<p>5 rows × 190 columns</p>\n",
       "</div>"
      ],
      "text/plain": [
       "                                         customer_ID         S_2       P_2  \\\n",
       "0  0000099d6bd597052cdcda90ffabf56573fe9d7c79be5f...  2017-03-09  0.938469   \n",
       "1  0000099d6bd597052cdcda90ffabf56573fe9d7c79be5f...  2017-04-07  0.936665   \n",
       "2  0000099d6bd597052cdcda90ffabf56573fe9d7c79be5f...  2017-05-28  0.954180   \n",
       "3  0000099d6bd597052cdcda90ffabf56573fe9d7c79be5f...  2017-06-13  0.960384   \n",
       "4  0000099d6bd597052cdcda90ffabf56573fe9d7c79be5f...  2017-07-16  0.947248   \n",
       "\n",
       "       D_39       B_1       B_2       R_1       S_3      D_41       B_3  ...  \\\n",
       "0  0.001733  0.008724  1.006838  0.009228  0.124035  0.008771  0.004709  ...   \n",
       "1  0.005775  0.004923  1.000653  0.006151  0.126750  0.000798  0.002714  ...   \n",
       "2  0.091505  0.021655  1.009672  0.006815  0.123977  0.007598  0.009423  ...   \n",
       "3  0.002455  0.013683  1.002700  0.001373  0.117169  0.000685  0.005531  ...   \n",
       "4  0.002483  0.015193  1.000727  0.007605  0.117325  0.004653  0.009312  ...   \n",
       "\n",
       "   D_136  D_137  D_138     D_139     D_140     D_141  D_142     D_143  \\\n",
       "0    NaN    NaN    NaN  0.002427  0.003706  0.003818    NaN  0.000569   \n",
       "1    NaN    NaN    NaN  0.003954  0.003167  0.005032    NaN  0.009576   \n",
       "2    NaN    NaN    NaN  0.003269  0.007329  0.000427    NaN  0.003429   \n",
       "3    NaN    NaN    NaN  0.006117  0.004516  0.003200    NaN  0.008419   \n",
       "4    NaN    NaN    NaN  0.003671  0.004946  0.008889    NaN  0.001670   \n",
       "\n",
       "      D_144     D_145  \n",
       "0  0.000610  0.002674  \n",
       "1  0.005492  0.009217  \n",
       "2  0.006986  0.002603  \n",
       "3  0.006527  0.009600  \n",
       "4  0.008126  0.009827  \n",
       "\n",
       "[5 rows x 190 columns]"
      ]
     },
     "execution_count": 33,
     "metadata": {},
     "output_type": "execute_result"
    }
   ],
   "source": [
    "df_train.head()"
   ]
  },
  {
   "cell_type": "code",
   "execution_count": 48,
   "id": "179760c5",
   "metadata": {},
   "outputs": [],
   "source": [
    "all_columns = list(df_train.drop(columns=['customer_ID', 'S_2']).columns)"
   ]
  },
  {
   "cell_type": "code",
   "execution_count": 49,
   "id": "4d699ccd",
   "metadata": {},
   "outputs": [
    {
     "name": "stdout",
     "output_type": "stream",
     "text": [
      "D_68\n",
      "D_73\n",
      "D_76\n",
      "D_83\n",
      "B_30\n",
      "D_87\n",
      "R_17\n",
      "B_31\n",
      "S_22\n",
      "D_104\n",
      "B_38\n",
      "D_108\n",
      "D_109\n",
      "D_114\n",
      "D_116\n",
      "D_117\n",
      "D_126\n",
      "B_42\n",
      "D_134\n",
      "D_135\n",
      "D_138\n"
     ]
    }
   ],
   "source": [
    "for column in all_columns:\n",
    "    if column not in relevant_columns:\n",
    "        print(column)"
   ]
  },
  {
   "cell_type": "markdown",
   "id": "282283af",
   "metadata": {},
   "source": [
    "As we can see, 167 of the 188 original features were relevant in training the model. Since these 21 \"irrelevant\" features represent a small portion of the overall data, I think it's worth keeping them in the dataset. Little time is lost to engineering features from these 21 columns, and other training passes with the model may make use of these features at some point."
   ]
  },
  {
   "cell_type": "code",
   "execution_count": null,
   "id": "707ef8bb",
   "metadata": {},
   "outputs": [],
   "source": []
  }
 ],
 "metadata": {
  "kernelspec": {
   "display_name": "Python 3 (ipykernel)",
   "language": "python",
   "name": "python3"
  },
  "language_info": {
   "codemirror_mode": {
    "name": "ipython",
    "version": 3
   },
   "file_extension": ".py",
   "mimetype": "text/x-python",
   "name": "python",
   "nbconvert_exporter": "python",
   "pygments_lexer": "ipython3",
   "version": "3.9.12"
  }
 },
 "nbformat": 4,
 "nbformat_minor": 5
}
