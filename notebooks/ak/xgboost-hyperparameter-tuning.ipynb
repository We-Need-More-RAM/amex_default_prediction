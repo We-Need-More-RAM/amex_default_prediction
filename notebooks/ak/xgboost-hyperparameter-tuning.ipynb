{
 "cells": [
  {
   "cell_type": "code",
   "execution_count": 1,
   "id": "005f2aa3",
   "metadata": {},
   "outputs": [],
   "source": [
    "import pandas as pd\n",
    "import xgboost as xgb\n",
    "from myfunctions import amex_metric\n",
    "import myfunctions"
   ]
  },
  {
   "cell_type": "code",
   "execution_count": 2,
   "id": "a6556302",
   "metadata": {},
   "outputs": [],
   "source": [
    "path = '../../data/prepared/'"
   ]
  },
  {
   "cell_type": "code",
   "execution_count": null,
   "id": "c48ee015",
   "metadata": {},
   "outputs": [],
   "source": [
    "train_df = pd.read_csv(path + 'train_data.csv')\n",
    "train_labels = pd.read_csv(path + 'train_labels.csv')\n",
    "valid_df = pd.read_csv(path + 'val_data.csv')\n",
    "valid_labels = pd.read_csv(path + 'val_labels.csv')"
   ]
  },
  {
   "cell_type": "code",
   "execution_count": null,
   "id": "e754c345",
   "metadata": {},
   "outputs": [],
   "source": [
    "column_list = list(train_df.columns)"
   ]
  },
  {
   "cell_type": "code",
   "execution_count": null,
   "id": "6bb0f780",
   "metadata": {},
   "outputs": [],
   "source": [
    "categorical_columns = ['B_30', 'B_38', 'D_114', 'D_116', 'D_117', 'D_120',\n",
    "                       'D_126', 'D_63', 'D_64', 'D_66', 'D_68']"
   ]
  },
  {
   "cell_type": "code",
   "execution_count": null,
   "id": "a1e1a0b2",
   "metadata": {},
   "outputs": [],
   "source": [
    "numerical_columns = [col for col in column_list if col not in categorical_columns]\n",
    "\n",
    "numerical_columns.remove('customer_ID')\n",
    "numerical_columns.remove('S_2')"
   ]
  },
  {
   "cell_type": "code",
   "execution_count": 7,
   "id": "275a8403",
   "metadata": {},
   "outputs": [],
   "source": [
    "def data_preparer(df, df_labels):\n",
    "    \n",
    "    df.fillna(-2, inplace=True)\n",
    "    df.drop(columns=['S_2'], inplace=True)\n",
    "    \n",
    "    new_df = pd.DataFrame({'customer_ID': df['customer_ID'].unique()})\n",
    "    \n",
    "    for col in numerical_columns:\n",
    "        mini = df.groupby('customer_ID')[col].min()\n",
    "        maxi = df.groupby('customer_ID')[col].max()\n",
    "        med = df.groupby('customer_ID')[col].median()\n",
    "        std = df.groupby('customer_ID')[col].std()\n",
    "    \n",
    "        stats = pd.DataFrame({f'{col}_min': mini, f'{col}_max': maxi,\n",
    "                              f'{col}_median': med, f'{col}_std': std})\n",
    "    \n",
    "        stats.reset_index(drop=True, inplace=True)\n",
    "    \n",
    "        new_df = pd.concat([new_df, stats], axis=1)\n",
    "        \n",
    "    new_df = new_df.merge(df_labels, on='customer_ID')\n",
    "    \n",
    "    my\n",
    "    \n",
    "    X = new_df.drop(columns=['customer_ID', 'target'])\n",
    "    y = new_df['target']\n",
    "    \n",
    "    dmatrix = xgb.DMatrix(X, label=y)\n",
    "    \n",
    "    return dmatrix, y"
   ]
  },
  {
   "cell_type": "code",
   "execution_count": 8,
   "id": "6f92a6c6",
   "metadata": {},
   "outputs": [],
   "source": [
    "D_train, y_train = data_preparer(train_df, train_labels)"
   ]
  },
  {
   "cell_type": "code",
   "execution_count": 9,
   "id": "346c54d9",
   "metadata": {},
   "outputs": [],
   "source": [
    "D_valid, y_valid = data_preparer(valid_df, valid_labels)"
   ]
  },
  {
   "cell_type": "code",
   "execution_count": 10,
   "id": "a38b9ad4",
   "metadata": {},
   "outputs": [],
   "source": [
    "steps = 1000\n",
    "seed = 42\n",
    "\n",
    "params = {\n",
    "    'verbosity': 1,\n",
    "    'max_depth': 4,\n",
    "    'objective': 'binary:logistic',\n",
    "    'eta': 0.15,\n",
    "    'random_state': seed\n",
    "}"
   ]
  },
  {
   "cell_type": "code",
   "execution_count": 11,
   "id": "e9d88fcc",
   "metadata": {},
   "outputs": [
    {
     "name": "stdout",
     "output_type": "stream",
     "text": [
      "[0]\tValidation-logloss:0.61009\n",
      "[1]\tValidation-logloss:0.54720\n",
      "[2]\tValidation-logloss:0.49891\n",
      "[3]\tValidation-logloss:0.46085\n",
      "[4]\tValidation-logloss:0.42978\n",
      "[5]\tValidation-logloss:0.40450\n",
      "[6]\tValidation-logloss:0.38371\n",
      "[7]\tValidation-logloss:0.36596\n",
      "[8]\tValidation-logloss:0.35156\n",
      "[9]\tValidation-logloss:0.33939\n",
      "[10]\tValidation-logloss:0.32885\n",
      "[11]\tValidation-logloss:0.31939\n",
      "[12]\tValidation-logloss:0.31186\n",
      "[13]\tValidation-logloss:0.30537\n",
      "[14]\tValidation-logloss:0.29981\n",
      "[15]\tValidation-logloss:0.29472\n",
      "[16]\tValidation-logloss:0.29047\n",
      "[17]\tValidation-logloss:0.28658\n",
      "[18]\tValidation-logloss:0.28334\n",
      "[19]\tValidation-logloss:0.28028\n",
      "[20]\tValidation-logloss:0.27796\n",
      "[21]\tValidation-logloss:0.27549\n",
      "[22]\tValidation-logloss:0.27351\n",
      "[23]\tValidation-logloss:0.27177\n",
      "[24]\tValidation-logloss:0.27009\n",
      "[25]\tValidation-logloss:0.26842\n",
      "[26]\tValidation-logloss:0.26714\n",
      "[27]\tValidation-logloss:0.26604\n",
      "[28]\tValidation-logloss:0.26484\n",
      "[29]\tValidation-logloss:0.26386\n",
      "[30]\tValidation-logloss:0.26293\n",
      "[31]\tValidation-logloss:0.26224\n",
      "[32]\tValidation-logloss:0.26139\n",
      "[33]\tValidation-logloss:0.26074\n",
      "[34]\tValidation-logloss:0.26020\n",
      "[35]\tValidation-logloss:0.25970\n",
      "[36]\tValidation-logloss:0.25918\n",
      "[37]\tValidation-logloss:0.25865\n",
      "[38]\tValidation-logloss:0.25816\n",
      "[39]\tValidation-logloss:0.25780\n",
      "[40]\tValidation-logloss:0.25761\n",
      "[41]\tValidation-logloss:0.25728\n",
      "[42]\tValidation-logloss:0.25708\n",
      "[43]\tValidation-logloss:0.25667\n",
      "[44]\tValidation-logloss:0.25629\n",
      "[45]\tValidation-logloss:0.25593\n",
      "[46]\tValidation-logloss:0.25571\n",
      "[47]\tValidation-logloss:0.25556\n",
      "[48]\tValidation-logloss:0.25544\n",
      "[49]\tValidation-logloss:0.25526\n",
      "[50]\tValidation-logloss:0.25512\n",
      "[51]\tValidation-logloss:0.25493\n",
      "[52]\tValidation-logloss:0.25475\n",
      "[53]\tValidation-logloss:0.25455\n",
      "[54]\tValidation-logloss:0.25440\n",
      "[55]\tValidation-logloss:0.25427\n",
      "[56]\tValidation-logloss:0.25421\n",
      "[57]\tValidation-logloss:0.25415\n",
      "[58]\tValidation-logloss:0.25405\n",
      "[59]\tValidation-logloss:0.25390\n",
      "[60]\tValidation-logloss:0.25386\n",
      "[61]\tValidation-logloss:0.25377\n",
      "[62]\tValidation-logloss:0.25378\n",
      "[63]\tValidation-logloss:0.25347\n",
      "[64]\tValidation-logloss:0.25342\n",
      "[65]\tValidation-logloss:0.25342\n",
      "[66]\tValidation-logloss:0.25334\n",
      "[67]\tValidation-logloss:0.25323\n",
      "[68]\tValidation-logloss:0.25327\n",
      "[69]\tValidation-logloss:0.25325\n",
      "[70]\tValidation-logloss:0.25321\n",
      "[71]\tValidation-logloss:0.25309\n",
      "[72]\tValidation-logloss:0.25303\n",
      "[73]\tValidation-logloss:0.25291\n",
      "[74]\tValidation-logloss:0.25289\n",
      "[75]\tValidation-logloss:0.25289\n",
      "[76]\tValidation-logloss:0.25288\n",
      "[77]\tValidation-logloss:0.25265\n",
      "[78]\tValidation-logloss:0.25259\n",
      "[79]\tValidation-logloss:0.25257\n",
      "[80]\tValidation-logloss:0.25265\n",
      "[81]\tValidation-logloss:0.25261\n",
      "[82]\tValidation-logloss:0.25250\n",
      "[83]\tValidation-logloss:0.25252\n",
      "[84]\tValidation-logloss:0.25254\n",
      "[85]\tValidation-logloss:0.25245\n",
      "[86]\tValidation-logloss:0.25255\n",
      "[87]\tValidation-logloss:0.25262\n",
      "[88]\tValidation-logloss:0.25268\n",
      "[89]\tValidation-logloss:0.25263\n"
     ]
    }
   ],
   "source": [
    "model_d4 = xgb.train(params, D_train, steps, early_stopping_rounds=5,\n",
    "                     evals=[(D_valid, 'Validation')])"
   ]
  },
  {
   "cell_type": "code",
   "execution_count": 12,
   "id": "a0aab282",
   "metadata": {},
   "outputs": [],
   "source": [
    "def model_evaluator(model, data, y_true):\n",
    "    \n",
    "    y_hat = model.predict(data)\n",
    "    \n",
    "    y_true_final = pd.DataFrame(y_true)\n",
    "    y_hat_final = pd.DataFrame(y_hat, columns=['prediction'])\n",
    "    \n",
    "    return amex_metric(y_true_final, y_hat_final)"
   ]
  },
  {
   "cell_type": "code",
   "execution_count": 13,
   "id": "3047ad66",
   "metadata": {},
   "outputs": [
    {
     "data": {
      "text/plain": [
       "0.7365156488976947"
      ]
     },
     "execution_count": 13,
     "metadata": {},
     "output_type": "execute_result"
    }
   ],
   "source": [
    "result_d4 = model_evaluator(model_d4, D_valid, y_valid)\n",
    "\n",
    "result_d4"
   ]
  },
  {
   "cell_type": "code",
   "execution_count": 14,
   "id": "bdf96a4b",
   "metadata": {},
   "outputs": [],
   "source": [
    "steps = 1000\n",
    "seed = 42\n",
    "\n",
    "params = {\n",
    "    'verbosity': 1,\n",
    "    'max_depth': 5,\n",
    "    'objective': 'binary:logistic',\n",
    "    'eta': 0.15,\n",
    "    'random_state': seed\n",
    "}"
   ]
  },
  {
   "cell_type": "code",
   "execution_count": 15,
   "id": "19d1e75d",
   "metadata": {},
   "outputs": [
    {
     "name": "stdout",
     "output_type": "stream",
     "text": [
      "[0]\tValidation-logloss:0.60804\n",
      "[1]\tValidation-logloss:0.54412\n",
      "[2]\tValidation-logloss:0.49479\n",
      "[3]\tValidation-logloss:0.45604\n",
      "[4]\tValidation-logloss:0.42408\n",
      "[5]\tValidation-logloss:0.39822\n",
      "[6]\tValidation-logloss:0.37691\n",
      "[7]\tValidation-logloss:0.35922\n",
      "[8]\tValidation-logloss:0.34456\n",
      "[9]\tValidation-logloss:0.33218\n",
      "[10]\tValidation-logloss:0.32183\n",
      "[11]\tValidation-logloss:0.31290\n",
      "[12]\tValidation-logloss:0.30508\n",
      "[13]\tValidation-logloss:0.29862\n",
      "[14]\tValidation-logloss:0.29305\n",
      "[15]\tValidation-logloss:0.28822\n",
      "[16]\tValidation-logloss:0.28414\n",
      "[17]\tValidation-logloss:0.28062\n",
      "[18]\tValidation-logloss:0.27758\n",
      "[19]\tValidation-logloss:0.27488\n",
      "[20]\tValidation-logloss:0.27253\n",
      "[21]\tValidation-logloss:0.27049\n",
      "[22]\tValidation-logloss:0.26880\n",
      "[23]\tValidation-logloss:0.26721\n",
      "[24]\tValidation-logloss:0.26595\n",
      "[25]\tValidation-logloss:0.26482\n",
      "[26]\tValidation-logloss:0.26364\n",
      "[27]\tValidation-logloss:0.26265\n",
      "[28]\tValidation-logloss:0.26168\n",
      "[29]\tValidation-logloss:0.26103\n",
      "[30]\tValidation-logloss:0.26016\n",
      "[31]\tValidation-logloss:0.25951\n",
      "[32]\tValidation-logloss:0.25896\n",
      "[33]\tValidation-logloss:0.25836\n",
      "[34]\tValidation-logloss:0.25774\n",
      "[35]\tValidation-logloss:0.25731\n",
      "[36]\tValidation-logloss:0.25711\n",
      "[37]\tValidation-logloss:0.25675\n",
      "[38]\tValidation-logloss:0.25630\n",
      "[39]\tValidation-logloss:0.25604\n",
      "[40]\tValidation-logloss:0.25576\n",
      "[41]\tValidation-logloss:0.25545\n",
      "[42]\tValidation-logloss:0.25530\n",
      "[43]\tValidation-logloss:0.25511\n",
      "[44]\tValidation-logloss:0.25503\n",
      "[45]\tValidation-logloss:0.25502\n",
      "[46]\tValidation-logloss:0.25483\n",
      "[47]\tValidation-logloss:0.25467\n",
      "[48]\tValidation-logloss:0.25466\n",
      "[49]\tValidation-logloss:0.25443\n",
      "[50]\tValidation-logloss:0.25450\n",
      "[51]\tValidation-logloss:0.25441\n",
      "[52]\tValidation-logloss:0.25437\n",
      "[53]\tValidation-logloss:0.25429\n",
      "[54]\tValidation-logloss:0.25425\n",
      "[55]\tValidation-logloss:0.25427\n",
      "[56]\tValidation-logloss:0.25423\n",
      "[57]\tValidation-logloss:0.25435\n",
      "[58]\tValidation-logloss:0.25431\n",
      "[59]\tValidation-logloss:0.25431\n",
      "[60]\tValidation-logloss:0.25431\n",
      "[61]\tValidation-logloss:0.25439\n"
     ]
    }
   ],
   "source": [
    "model_d5 = xgb.train(params, D_train, steps, early_stopping_rounds=5,\n",
    "                     evals=[(D_valid, 'Validation')])"
   ]
  },
  {
   "cell_type": "code",
   "execution_count": 16,
   "id": "6446a646",
   "metadata": {},
   "outputs": [
    {
     "data": {
      "text/plain": [
       "0.7355595941949633"
      ]
     },
     "execution_count": 16,
     "metadata": {},
     "output_type": "execute_result"
    }
   ],
   "source": [
    "result_d5 = model_evaluator(model_d5, D_valid, y_valid)\n",
    "\n",
    "result_d5"
   ]
  },
  {
   "cell_type": "code",
   "execution_count": 17,
   "id": "33a6dffa",
   "metadata": {},
   "outputs": [],
   "source": [
    "steps = 1000\n",
    "seed = 42\n",
    "\n",
    "params = {\n",
    "    'verbosity': 1,\n",
    "    'max_depth': 4,\n",
    "    'objective': 'binary:logistic',\n",
    "    'eta': 0.15,\n",
    "    'random_state': seed,\n",
    "    'colsample_bytree': 0.8\n",
    "}"
   ]
  },
  {
   "cell_type": "code",
   "execution_count": 18,
   "id": "5deb8fd8",
   "metadata": {},
   "outputs": [
    {
     "name": "stdout",
     "output_type": "stream",
     "text": [
      "[0]\tValidation-logloss:0.60991\n",
      "[1]\tValidation-logloss:0.54771\n",
      "[2]\tValidation-logloss:0.49951\n",
      "[3]\tValidation-logloss:0.46063\n",
      "[4]\tValidation-logloss:0.42946\n",
      "[5]\tValidation-logloss:0.40432\n",
      "[6]\tValidation-logloss:0.38347\n",
      "[7]\tValidation-logloss:0.36621\n",
      "[8]\tValidation-logloss:0.35171\n",
      "[9]\tValidation-logloss:0.33937\n",
      "[10]\tValidation-logloss:0.32883\n",
      "[11]\tValidation-logloss:0.32003\n",
      "[12]\tValidation-logloss:0.31251\n",
      "[13]\tValidation-logloss:0.30604\n",
      "[14]\tValidation-logloss:0.30050\n",
      "[15]\tValidation-logloss:0.29551\n",
      "[16]\tValidation-logloss:0.29128\n",
      "[17]\tValidation-logloss:0.28745\n",
      "[18]\tValidation-logloss:0.28406\n",
      "[19]\tValidation-logloss:0.28105\n",
      "[20]\tValidation-logloss:0.27838\n",
      "[21]\tValidation-logloss:0.27635\n",
      "[22]\tValidation-logloss:0.27429\n",
      "[23]\tValidation-logloss:0.27243\n",
      "[24]\tValidation-logloss:0.27068\n",
      "[25]\tValidation-logloss:0.26923\n",
      "[26]\tValidation-logloss:0.26795\n",
      "[27]\tValidation-logloss:0.26652\n",
      "[28]\tValidation-logloss:0.26547\n",
      "[29]\tValidation-logloss:0.26453\n",
      "[30]\tValidation-logloss:0.26351\n",
      "[31]\tValidation-logloss:0.26266\n",
      "[32]\tValidation-logloss:0.26180\n",
      "[33]\tValidation-logloss:0.26119\n",
      "[34]\tValidation-logloss:0.26054\n",
      "[35]\tValidation-logloss:0.26005\n",
      "[36]\tValidation-logloss:0.25937\n",
      "[37]\tValidation-logloss:0.25888\n",
      "[38]\tValidation-logloss:0.25861\n",
      "[39]\tValidation-logloss:0.25825\n",
      "[40]\tValidation-logloss:0.25776\n",
      "[41]\tValidation-logloss:0.25735\n",
      "[42]\tValidation-logloss:0.25699\n",
      "[43]\tValidation-logloss:0.25674\n",
      "[44]\tValidation-logloss:0.25647\n",
      "[45]\tValidation-logloss:0.25631\n",
      "[46]\tValidation-logloss:0.25610\n",
      "[47]\tValidation-logloss:0.25589\n",
      "[48]\tValidation-logloss:0.25544\n",
      "[49]\tValidation-logloss:0.25516\n",
      "[50]\tValidation-logloss:0.25502\n",
      "[51]\tValidation-logloss:0.25484\n",
      "[52]\tValidation-logloss:0.25473\n",
      "[53]\tValidation-logloss:0.25457\n",
      "[54]\tValidation-logloss:0.25437\n",
      "[55]\tValidation-logloss:0.25434\n",
      "[56]\tValidation-logloss:0.25399\n",
      "[57]\tValidation-logloss:0.25388\n",
      "[58]\tValidation-logloss:0.25375\n",
      "[59]\tValidation-logloss:0.25370\n",
      "[60]\tValidation-logloss:0.25370\n",
      "[61]\tValidation-logloss:0.25364\n",
      "[62]\tValidation-logloss:0.25356\n",
      "[63]\tValidation-logloss:0.25340\n",
      "[64]\tValidation-logloss:0.25327\n",
      "[65]\tValidation-logloss:0.25328\n",
      "[66]\tValidation-logloss:0.25316\n",
      "[67]\tValidation-logloss:0.25309\n",
      "[68]\tValidation-logloss:0.25307\n",
      "[69]\tValidation-logloss:0.25300\n",
      "[70]\tValidation-logloss:0.25300\n",
      "[71]\tValidation-logloss:0.25267\n",
      "[72]\tValidation-logloss:0.25259\n",
      "[73]\tValidation-logloss:0.25257\n",
      "[74]\tValidation-logloss:0.25257\n",
      "[75]\tValidation-logloss:0.25249\n",
      "[76]\tValidation-logloss:0.25243\n",
      "[77]\tValidation-logloss:0.25243\n",
      "[78]\tValidation-logloss:0.25242\n",
      "[79]\tValidation-logloss:0.25229\n",
      "[80]\tValidation-logloss:0.25208\n",
      "[81]\tValidation-logloss:0.25203\n",
      "[82]\tValidation-logloss:0.25205\n",
      "[83]\tValidation-logloss:0.25197\n",
      "[84]\tValidation-logloss:0.25205\n",
      "[85]\tValidation-logloss:0.25198\n",
      "[86]\tValidation-logloss:0.25197\n"
     ]
    }
   ],
   "source": [
    "model_bytree = xgb.train(params, D_train, steps, early_stopping_rounds=3,\n",
    "                         evals=[(D_valid, 'Validation')])"
   ]
  },
  {
   "cell_type": "code",
   "execution_count": 19,
   "id": "e3840f94",
   "metadata": {},
   "outputs": [
    {
     "data": {
      "text/plain": [
       "0.7377835985773353"
      ]
     },
     "execution_count": 19,
     "metadata": {},
     "output_type": "execute_result"
    }
   ],
   "source": [
    "result_bytree = model_evaluator(model_bytree, D_valid, y_valid)\n",
    "\n",
    "result_bytree"
   ]
  },
  {
   "cell_type": "code",
   "execution_count": 20,
   "id": "3bd0e8fc",
   "metadata": {},
   "outputs": [],
   "source": [
    "steps = 1000\n",
    "seed = 42\n",
    "\n",
    "params = {\n",
    "    'verbosity': 1,\n",
    "    'max_depth': 4,\n",
    "    'objective': 'binary:logistic',\n",
    "    'eta': 0.15,\n",
    "    'random_state': seed,\n",
    "    'colsample_bytree': 0.8,\n",
    "    'colsample_bylevel': 0.8\n",
    "}"
   ]
  },
  {
   "cell_type": "code",
   "execution_count": 21,
   "id": "695d6f30",
   "metadata": {},
   "outputs": [
    {
     "name": "stdout",
     "output_type": "stream",
     "text": [
      "[0]\tValidation-logloss:0.61014\n",
      "[1]\tValidation-logloss:0.54739\n",
      "[2]\tValidation-logloss:0.49884\n",
      "[3]\tValidation-logloss:0.46047\n",
      "[4]\tValidation-logloss:0.42973\n",
      "[5]\tValidation-logloss:0.40442\n",
      "[6]\tValidation-logloss:0.38327\n",
      "[7]\tValidation-logloss:0.36564\n",
      "[8]\tValidation-logloss:0.35097\n",
      "[9]\tValidation-logloss:0.33879\n",
      "[10]\tValidation-logloss:0.32843\n",
      "[11]\tValidation-logloss:0.31965\n",
      "[12]\tValidation-logloss:0.31197\n",
      "[13]\tValidation-logloss:0.30543\n",
      "[14]\tValidation-logloss:0.29988\n",
      "[15]\tValidation-logloss:0.29473\n",
      "[16]\tValidation-logloss:0.29042\n",
      "[17]\tValidation-logloss:0.28683\n",
      "[18]\tValidation-logloss:0.28336\n",
      "[19]\tValidation-logloss:0.28043\n",
      "[20]\tValidation-logloss:0.27780\n",
      "[21]\tValidation-logloss:0.27550\n",
      "[22]\tValidation-logloss:0.27352\n",
      "[23]\tValidation-logloss:0.27188\n",
      "[24]\tValidation-logloss:0.27019\n",
      "[25]\tValidation-logloss:0.26869\n",
      "[26]\tValidation-logloss:0.26755\n",
      "[27]\tValidation-logloss:0.26641\n",
      "[28]\tValidation-logloss:0.26526\n",
      "[29]\tValidation-logloss:0.26424\n",
      "[30]\tValidation-logloss:0.26323\n",
      "[31]\tValidation-logloss:0.26222\n",
      "[32]\tValidation-logloss:0.26126\n",
      "[33]\tValidation-logloss:0.26065\n",
      "[34]\tValidation-logloss:0.25990\n",
      "[35]\tValidation-logloss:0.25934\n",
      "[36]\tValidation-logloss:0.25893\n",
      "[37]\tValidation-logloss:0.25845\n",
      "[38]\tValidation-logloss:0.25813\n",
      "[39]\tValidation-logloss:0.25771\n",
      "[40]\tValidation-logloss:0.25738\n",
      "[41]\tValidation-logloss:0.25692\n",
      "[42]\tValidation-logloss:0.25664\n",
      "[43]\tValidation-logloss:0.25638\n",
      "[44]\tValidation-logloss:0.25606\n",
      "[45]\tValidation-logloss:0.25581\n",
      "[46]\tValidation-logloss:0.25568\n",
      "[47]\tValidation-logloss:0.25556\n",
      "[48]\tValidation-logloss:0.25531\n",
      "[49]\tValidation-logloss:0.25517\n",
      "[50]\tValidation-logloss:0.25495\n",
      "[51]\tValidation-logloss:0.25484\n",
      "[52]\tValidation-logloss:0.25459\n",
      "[53]\tValidation-logloss:0.25435\n",
      "[54]\tValidation-logloss:0.25410\n",
      "[55]\tValidation-logloss:0.25398\n",
      "[56]\tValidation-logloss:0.25387\n",
      "[57]\tValidation-logloss:0.25373\n",
      "[58]\tValidation-logloss:0.25367\n",
      "[59]\tValidation-logloss:0.25353\n",
      "[60]\tValidation-logloss:0.25349\n",
      "[61]\tValidation-logloss:0.25331\n",
      "[62]\tValidation-logloss:0.25310\n",
      "[63]\tValidation-logloss:0.25303\n",
      "[64]\tValidation-logloss:0.25297\n",
      "[65]\tValidation-logloss:0.25293\n",
      "[66]\tValidation-logloss:0.25289\n",
      "[67]\tValidation-logloss:0.25275\n",
      "[68]\tValidation-logloss:0.25258\n",
      "[69]\tValidation-logloss:0.25249\n",
      "[70]\tValidation-logloss:0.25230\n",
      "[71]\tValidation-logloss:0.25228\n",
      "[72]\tValidation-logloss:0.25220\n",
      "[73]\tValidation-logloss:0.25218\n",
      "[74]\tValidation-logloss:0.25209\n",
      "[75]\tValidation-logloss:0.25213\n",
      "[76]\tValidation-logloss:0.25209\n",
      "[77]\tValidation-logloss:0.25202\n",
      "[78]\tValidation-logloss:0.25195\n",
      "[79]\tValidation-logloss:0.25191\n",
      "[80]\tValidation-logloss:0.25181\n",
      "[81]\tValidation-logloss:0.25170\n",
      "[82]\tValidation-logloss:0.25171\n",
      "[83]\tValidation-logloss:0.25165\n",
      "[84]\tValidation-logloss:0.25165\n",
      "[85]\tValidation-logloss:0.25164\n",
      "[86]\tValidation-logloss:0.25161\n",
      "[87]\tValidation-logloss:0.25161\n",
      "[88]\tValidation-logloss:0.25164\n"
     ]
    }
   ],
   "source": [
    "model_bytl = xgb.train(params, D_train, steps, early_stopping_rounds=3,\n",
    "                         evals=[(D_valid, 'Validation')])"
   ]
  },
  {
   "cell_type": "code",
   "execution_count": 22,
   "id": "7e6ce830",
   "metadata": {},
   "outputs": [
    {
     "data": {
      "text/plain": [
       "0.7402951614826507"
      ]
     },
     "execution_count": 22,
     "metadata": {},
     "output_type": "execute_result"
    }
   ],
   "source": [
    "result_bytl = model_evaluator(model_bytl, D_valid, y_valid)\n",
    "\n",
    "result_bytl"
   ]
  },
  {
   "cell_type": "code",
   "execution_count": 23,
   "id": "ec4b3914",
   "metadata": {},
   "outputs": [],
   "source": [
    "steps = 1000\n",
    "seed = 42\n",
    "\n",
    "params = {\n",
    "    'verbosity': 1,\n",
    "    'max_depth': 4,\n",
    "    'objective': 'binary:logistic',\n",
    "    'eta': 0.15,\n",
    "    'random_state': seed,\n",
    "    'colsample_bytree': 0.8,\n",
    "    'colsample_bylevel': 0.8,\n",
    "    'colsample_bynode': 0.8\n",
    "}"
   ]
  },
  {
   "cell_type": "code",
   "execution_count": 24,
   "id": "7bae0dcc",
   "metadata": {},
   "outputs": [
    {
     "name": "stdout",
     "output_type": "stream",
     "text": [
      "[0]\tValidation-logloss:0.61214\n",
      "[1]\tValidation-logloss:0.54934\n",
      "[2]\tValidation-logloss:0.50063\n",
      "[3]\tValidation-logloss:0.46194\n",
      "[4]\tValidation-logloss:0.43089\n",
      "[5]\tValidation-logloss:0.40525\n",
      "[6]\tValidation-logloss:0.38419\n",
      "[7]\tValidation-logloss:0.36653\n",
      "[8]\tValidation-logloss:0.35197\n",
      "[9]\tValidation-logloss:0.33946\n",
      "[10]\tValidation-logloss:0.32898\n",
      "[11]\tValidation-logloss:0.32018\n",
      "[12]\tValidation-logloss:0.31238\n",
      "[13]\tValidation-logloss:0.30580\n",
      "[14]\tValidation-logloss:0.29997\n",
      "[15]\tValidation-logloss:0.29507\n",
      "[16]\tValidation-logloss:0.29069\n",
      "[17]\tValidation-logloss:0.28696\n",
      "[18]\tValidation-logloss:0.28371\n",
      "[19]\tValidation-logloss:0.28075\n",
      "[20]\tValidation-logloss:0.27823\n",
      "[21]\tValidation-logloss:0.27593\n",
      "[22]\tValidation-logloss:0.27382\n",
      "[23]\tValidation-logloss:0.27210\n",
      "[24]\tValidation-logloss:0.27046\n",
      "[25]\tValidation-logloss:0.26902\n",
      "[26]\tValidation-logloss:0.26775\n",
      "[27]\tValidation-logloss:0.26650\n",
      "[28]\tValidation-logloss:0.26544\n",
      "[29]\tValidation-logloss:0.26456\n",
      "[30]\tValidation-logloss:0.26355\n",
      "[31]\tValidation-logloss:0.26268\n",
      "[32]\tValidation-logloss:0.26186\n",
      "[33]\tValidation-logloss:0.26118\n",
      "[34]\tValidation-logloss:0.26061\n",
      "[35]\tValidation-logloss:0.25995\n",
      "[36]\tValidation-logloss:0.25933\n",
      "[37]\tValidation-logloss:0.25896\n",
      "[38]\tValidation-logloss:0.25868\n",
      "[39]\tValidation-logloss:0.25817\n",
      "[40]\tValidation-logloss:0.25786\n",
      "[41]\tValidation-logloss:0.25748\n",
      "[42]\tValidation-logloss:0.25737\n",
      "[43]\tValidation-logloss:0.25707\n",
      "[44]\tValidation-logloss:0.25677\n",
      "[45]\tValidation-logloss:0.25640\n",
      "[46]\tValidation-logloss:0.25611\n",
      "[47]\tValidation-logloss:0.25583\n",
      "[48]\tValidation-logloss:0.25559\n",
      "[49]\tValidation-logloss:0.25536\n",
      "[50]\tValidation-logloss:0.25514\n",
      "[51]\tValidation-logloss:0.25489\n",
      "[52]\tValidation-logloss:0.25487\n",
      "[53]\tValidation-logloss:0.25464\n",
      "[54]\tValidation-logloss:0.25441\n",
      "[55]\tValidation-logloss:0.25433\n",
      "[56]\tValidation-logloss:0.25426\n",
      "[57]\tValidation-logloss:0.25407\n",
      "[58]\tValidation-logloss:0.25397\n",
      "[59]\tValidation-logloss:0.25390\n",
      "[60]\tValidation-logloss:0.25377\n",
      "[61]\tValidation-logloss:0.25354\n",
      "[62]\tValidation-logloss:0.25353\n",
      "[63]\tValidation-logloss:0.25328\n",
      "[64]\tValidation-logloss:0.25326\n",
      "[65]\tValidation-logloss:0.25313\n",
      "[66]\tValidation-logloss:0.25296\n",
      "[67]\tValidation-logloss:0.25290\n",
      "[68]\tValidation-logloss:0.25292\n",
      "[69]\tValidation-logloss:0.25288\n",
      "[70]\tValidation-logloss:0.25284\n",
      "[71]\tValidation-logloss:0.25283\n",
      "[72]\tValidation-logloss:0.25273\n",
      "[73]\tValidation-logloss:0.25270\n",
      "[74]\tValidation-logloss:0.25259\n",
      "[75]\tValidation-logloss:0.25259\n",
      "[76]\tValidation-logloss:0.25259\n",
      "[77]\tValidation-logloss:0.25268\n",
      "[78]\tValidation-logloss:0.25263\n"
     ]
    }
   ],
   "source": [
    "model_byall = xgb.train(params, D_train, steps, early_stopping_rounds=3,\n",
    "                         evals=[(D_valid, 'Validation')])"
   ]
  },
  {
   "cell_type": "code",
   "execution_count": 25,
   "id": "15678bc7",
   "metadata": {},
   "outputs": [
    {
     "data": {
      "text/plain": [
       "0.7380946660295717"
      ]
     },
     "execution_count": 25,
     "metadata": {},
     "output_type": "execute_result"
    }
   ],
   "source": [
    "result_byall = model_evaluator(model_byall, D_valid, y_valid)\n",
    "\n",
    "result_byall"
   ]
  },
  {
   "cell_type": "code",
   "execution_count": null,
   "id": "a496005f",
   "metadata": {},
   "outputs": [],
   "source": []
  }
 ],
 "metadata": {
  "kernelspec": {
   "display_name": "Python 3 (ipykernel)",
   "language": "python",
   "name": "python3"
  },
  "language_info": {
   "codemirror_mode": {
    "name": "ipython",
    "version": 3
   },
   "file_extension": ".py",
   "mimetype": "text/x-python",
   "name": "python",
   "nbconvert_exporter": "python",
   "pygments_lexer": "ipython3",
   "version": "3.9.12"
  }
 },
 "nbformat": 4,
 "nbformat_minor": 5
}
