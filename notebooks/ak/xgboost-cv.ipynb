{
 "cells": [
  {
   "cell_type": "code",
   "execution_count": 1,
   "id": "7073089d",
   "metadata": {},
   "outputs": [
    {
     "data": {
      "application/javascript": [
       "IPython.notebook.set_autosave_interval(0)"
      ]
     },
     "metadata": {},
     "output_type": "display_data"
    },
    {
     "name": "stdout",
     "output_type": "stream",
     "text": [
      "Autosave disabled\n"
     ]
    }
   ],
   "source": [
    "%autosave 0"
   ]
  },
  {
   "cell_type": "code",
   "execution_count": 7,
   "id": "c88fa092",
   "metadata": {},
   "outputs": [],
   "source": [
    "import pandas as pd\n",
    "import numpy as np\n",
    "import xgboost as xgb\n",
    "from sklearn.model_selection import StratifiedKFold"
   ]
  },
  {
   "cell_type": "code",
   "execution_count": 3,
   "id": "116d8104",
   "metadata": {},
   "outputs": [],
   "source": [
    "df = pd.read_csv('prepped_data.csv')\n",
    "\n",
    "train_labels = pd.read_csv('../../data/prepared/train_labels.csv')\n",
    "val_labels = pd.read_csv('../../data/prepared/val_labels.csv')"
   ]
  },
  {
   "cell_type": "code",
   "execution_count": 4,
   "id": "539727ad",
   "metadata": {},
   "outputs": [],
   "source": [
    "all_labels = pd.concat([train_labels, val_labels], axis=0)"
   ]
  },
  {
   "cell_type": "code",
   "execution_count": 5,
   "id": "e3d883e7",
   "metadata": {},
   "outputs": [
    {
     "data": {
      "text/html": [
       "<div>\n",
       "<style scoped>\n",
       "    .dataframe tbody tr th:only-of-type {\n",
       "        vertical-align: middle;\n",
       "    }\n",
       "\n",
       "    .dataframe tbody tr th {\n",
       "        vertical-align: top;\n",
       "    }\n",
       "\n",
       "    .dataframe thead th {\n",
       "        text-align: right;\n",
       "    }\n",
       "</style>\n",
       "<table border=\"1\" class=\"dataframe\">\n",
       "  <thead>\n",
       "    <tr style=\"text-align: right;\">\n",
       "      <th></th>\n",
       "      <th>customer_ID</th>\n",
       "      <th>P_2_min</th>\n",
       "      <th>P_2_max</th>\n",
       "      <th>P_2_median</th>\n",
       "      <th>P_2_std</th>\n",
       "      <th>P_2_last</th>\n",
       "      <th>P_2_change</th>\n",
       "      <th>D_39_min</th>\n",
       "      <th>D_39_max</th>\n",
       "      <th>D_39_median</th>\n",
       "      <th>...</th>\n",
       "      <th>D_137_nulls</th>\n",
       "      <th>D_138_nulls</th>\n",
       "      <th>D_139_nulls</th>\n",
       "      <th>D_140_nulls</th>\n",
       "      <th>D_141_nulls</th>\n",
       "      <th>D_142_nulls</th>\n",
       "      <th>D_143_nulls</th>\n",
       "      <th>D_144_nulls</th>\n",
       "      <th>D_145_nulls</th>\n",
       "      <th>target</th>\n",
       "    </tr>\n",
       "  </thead>\n",
       "  <tbody>\n",
       "    <tr>\n",
       "      <th>0</th>\n",
       "      <td>0000099d6bd597052cdcda90ffabf56573fe9d7c79be5f...</td>\n",
       "      <td>0.868580</td>\n",
       "      <td>0.960384</td>\n",
       "      <td>0.938469</td>\n",
       "      <td>0.024194</td>\n",
       "      <td>0.934745</td>\n",
       "      <td>-0.003724</td>\n",
       "      <td>0.001082</td>\n",
       "      <td>0.091505</td>\n",
       "      <td>0.002483</td>\n",
       "      <td>...</td>\n",
       "      <td>0.446319</td>\n",
       "      <td>0.446319</td>\n",
       "      <td>-0.283183</td>\n",
       "      <td>-0.219693</td>\n",
       "      <td>-0.283183</td>\n",
       "      <td>0.596403</td>\n",
       "      <td>-0.283183</td>\n",
       "      <td>-0.219331</td>\n",
       "      <td>-0.283183</td>\n",
       "      <td>0</td>\n",
       "    </tr>\n",
       "    <tr>\n",
       "      <th>1</th>\n",
       "      <td>0005ef1480ffe4f0e5908eae07db8e05f2e705bca6a57d...</td>\n",
       "      <td>0.068484</td>\n",
       "      <td>0.186780</td>\n",
       "      <td>0.127632</td>\n",
       "      <td>0.083648</td>\n",
       "      <td>0.068484</td>\n",
       "      <td>-0.118296</td>\n",
       "      <td>0.031711</td>\n",
       "      <td>0.914384</td>\n",
       "      <td>0.473048</td>\n",
       "      <td>...</td>\n",
       "      <td>-3.166442</td>\n",
       "      <td>-3.166442</td>\n",
       "      <td>-0.283183</td>\n",
       "      <td>-0.219693</td>\n",
       "      <td>-0.283183</td>\n",
       "      <td>-1.582977</td>\n",
       "      <td>-0.283183</td>\n",
       "      <td>-0.219331</td>\n",
       "      <td>-0.283183</td>\n",
       "      <td>1</td>\n",
       "    </tr>\n",
       "    <tr>\n",
       "      <th>2</th>\n",
       "      <td>0005f2ab0cc352cd64eac9e60b981ed8c3289d20fa5fce...</td>\n",
       "      <td>0.837273</td>\n",
       "      <td>0.946487</td>\n",
       "      <td>0.894418</td>\n",
       "      <td>0.030962</td>\n",
       "      <td>0.875766</td>\n",
       "      <td>-0.018652</td>\n",
       "      <td>0.004118</td>\n",
       "      <td>0.740627</td>\n",
       "      <td>0.413056</td>\n",
       "      <td>...</td>\n",
       "      <td>0.446319</td>\n",
       "      <td>0.446319</td>\n",
       "      <td>-0.283183</td>\n",
       "      <td>-0.219693</td>\n",
       "      <td>-0.283183</td>\n",
       "      <td>0.596403</td>\n",
       "      <td>-0.283183</td>\n",
       "      <td>-0.219331</td>\n",
       "      <td>-0.283183</td>\n",
       "      <td>0</td>\n",
       "    </tr>\n",
       "    <tr>\n",
       "      <th>3</th>\n",
       "      <td>0007ee1ac8edb6be588c6c8a158d2268e3228c49cf5277...</td>\n",
       "      <td>0.365222</td>\n",
       "      <td>0.646557</td>\n",
       "      <td>0.417593</td>\n",
       "      <td>0.081273</td>\n",
       "      <td>0.410590</td>\n",
       "      <td>-0.235967</td>\n",
       "      <td>0.000303</td>\n",
       "      <td>0.213325</td>\n",
       "      <td>0.006578</td>\n",
       "      <td>...</td>\n",
       "      <td>0.446319</td>\n",
       "      <td>0.446319</td>\n",
       "      <td>-0.283183</td>\n",
       "      <td>-0.219693</td>\n",
       "      <td>-0.283183</td>\n",
       "      <td>0.596403</td>\n",
       "      <td>-0.283183</td>\n",
       "      <td>-0.219331</td>\n",
       "      <td>-0.283183</td>\n",
       "      <td>0</td>\n",
       "    </tr>\n",
       "    <tr>\n",
       "      <th>4</th>\n",
       "      <td>0008ef32824d3067b4d8ab70e7c79fa04c808f4d99194f...</td>\n",
       "      <td>0.752942</td>\n",
       "      <td>0.867515</td>\n",
       "      <td>0.843999</td>\n",
       "      <td>0.030110</td>\n",
       "      <td>0.850308</td>\n",
       "      <td>0.097366</td>\n",
       "      <td>0.000355</td>\n",
       "      <td>0.009881</td>\n",
       "      <td>0.007834</td>\n",
       "      <td>...</td>\n",
       "      <td>0.446319</td>\n",
       "      <td>0.446319</td>\n",
       "      <td>1.033397</td>\n",
       "      <td>-0.219693</td>\n",
       "      <td>1.033397</td>\n",
       "      <td>0.596403</td>\n",
       "      <td>1.033397</td>\n",
       "      <td>-0.219331</td>\n",
       "      <td>1.033397</td>\n",
       "      <td>0</td>\n",
       "    </tr>\n",
       "  </tbody>\n",
       "</table>\n",
       "<p>5 rows × 1308 columns</p>\n",
       "</div>"
      ],
      "text/plain": [
       "                                         customer_ID   P_2_min   P_2_max  \\\n",
       "0  0000099d6bd597052cdcda90ffabf56573fe9d7c79be5f...  0.868580  0.960384   \n",
       "1  0005ef1480ffe4f0e5908eae07db8e05f2e705bca6a57d...  0.068484  0.186780   \n",
       "2  0005f2ab0cc352cd64eac9e60b981ed8c3289d20fa5fce...  0.837273  0.946487   \n",
       "3  0007ee1ac8edb6be588c6c8a158d2268e3228c49cf5277...  0.365222  0.646557   \n",
       "4  0008ef32824d3067b4d8ab70e7c79fa04c808f4d99194f...  0.752942  0.867515   \n",
       "\n",
       "   P_2_median   P_2_std  P_2_last  P_2_change  D_39_min  D_39_max  \\\n",
       "0    0.938469  0.024194  0.934745   -0.003724  0.001082  0.091505   \n",
       "1    0.127632  0.083648  0.068484   -0.118296  0.031711  0.914384   \n",
       "2    0.894418  0.030962  0.875766   -0.018652  0.004118  0.740627   \n",
       "3    0.417593  0.081273  0.410590   -0.235967  0.000303  0.213325   \n",
       "4    0.843999  0.030110  0.850308    0.097366  0.000355  0.009881   \n",
       "\n",
       "   D_39_median  ...  D_137_nulls  D_138_nulls  D_139_nulls  D_140_nulls  \\\n",
       "0     0.002483  ...     0.446319     0.446319    -0.283183    -0.219693   \n",
       "1     0.473048  ...    -3.166442    -3.166442    -0.283183    -0.219693   \n",
       "2     0.413056  ...     0.446319     0.446319    -0.283183    -0.219693   \n",
       "3     0.006578  ...     0.446319     0.446319    -0.283183    -0.219693   \n",
       "4     0.007834  ...     0.446319     0.446319     1.033397    -0.219693   \n",
       "\n",
       "   D_141_nulls  D_142_nulls  D_143_nulls  D_144_nulls  D_145_nulls  target  \n",
       "0    -0.283183     0.596403    -0.283183    -0.219331    -0.283183       0  \n",
       "1    -0.283183    -1.582977    -0.283183    -0.219331    -0.283183       1  \n",
       "2    -0.283183     0.596403    -0.283183    -0.219331    -0.283183       0  \n",
       "3    -0.283183     0.596403    -0.283183    -0.219331    -0.283183       0  \n",
       "4     1.033397     0.596403     1.033397    -0.219331     1.033397       0  \n",
       "\n",
       "[5 rows x 1308 columns]"
      ]
     },
     "execution_count": 5,
     "metadata": {},
     "output_type": "execute_result"
    }
   ],
   "source": [
    "df = df.merge(all_labels, how='left', on='customer_ID')\n",
    "df.head()"
   ]
  },
  {
   "cell_type": "code",
   "execution_count": 9,
   "id": "da9f5cc6",
   "metadata": {},
   "outputs": [],
   "source": [
    "matrix = xgb.DMatrix(df.drop(columns=['customer_ID', 'target']), label=df['target'])"
   ]
  },
  {
   "cell_type": "code",
   "execution_count": 14,
   "id": "7e32143a",
   "metadata": {},
   "outputs": [],
   "source": [
    "seed = 42\n",
    "\n",
    "skf = StratifiedKFold(n_splits=5)\n",
    "\n",
    "params = {\n",
    "    'max_depth': 4,\n",
    "    'learning_rate': 0.1,\n",
    "    'colsample_bytree': 0.8,\n",
    "    'subsample': 0.8,\n",
    "    'min_child_weight': 10,\n",
    "    'objective': 'binary:logistic',\n",
    "    'random_state': seed\n",
    "}"
   ]
  },
  {
   "cell_type": "code",
   "execution_count": 15,
   "id": "b7c0ac6e",
   "metadata": {},
   "outputs": [
    {
     "name": "stdout",
     "output_type": "stream",
     "text": [
      "[0]\ttrain-logloss:0.63257+0.00007\ttest-logloss:0.63264+0.00011\n",
      "[1]\ttrain-logloss:0.58314+0.00050\ttest-logloss:0.58337+0.00059\n"
     ]
    },
    {
     "ename": "KeyboardInterrupt",
     "evalue": "",
     "output_type": "error",
     "traceback": [
      "\u001b[0;31m---------------------------------------------------------------------------\u001b[0m",
      "\u001b[0;31mKeyboardInterrupt\u001b[0m                         Traceback (most recent call last)",
      "Input \u001b[0;32mIn [15]\u001b[0m, in \u001b[0;36m<cell line: 1>\u001b[0;34m()\u001b[0m\n\u001b[0;32m----> 1\u001b[0m \u001b[43mxgb\u001b[49m\u001b[38;5;241;43m.\u001b[39;49m\u001b[43mcv\u001b[49m\u001b[43m(\u001b[49m\u001b[43mparams\u001b[49m\u001b[43m,\u001b[49m\u001b[43m \u001b[49m\u001b[43mmatrix\u001b[49m\u001b[43m,\u001b[49m\u001b[43m \u001b[49m\u001b[43mnum_boost_round\u001b[49m\u001b[38;5;241;43m=\u001b[39;49m\u001b[38;5;241;43m2_000\u001b[39;49m\u001b[43m,\u001b[49m\u001b[43m \u001b[49m\u001b[43mnfold\u001b[49m\u001b[38;5;241;43m=\u001b[39;49m\u001b[38;5;241;43m5\u001b[39;49m\u001b[43m,\u001b[49m\n\u001b[1;32m      2\u001b[0m \u001b[43m       \u001b[49m\u001b[43mfolds\u001b[49m\u001b[38;5;241;43m=\u001b[39;49m\u001b[43mskf\u001b[49m\u001b[43m,\u001b[49m\u001b[43m \u001b[49m\u001b[43mmetrics\u001b[49m\u001b[38;5;241;43m=\u001b[39;49m\u001b[38;5;124;43m'\u001b[39;49m\u001b[38;5;124;43mlogloss\u001b[39;49m\u001b[38;5;124;43m'\u001b[39;49m\u001b[43m,\u001b[49m\u001b[43m \u001b[49m\u001b[43mearly_stopping_rounds\u001b[49m\u001b[38;5;241;43m=\u001b[39;49m\u001b[38;5;241;43m32\u001b[39;49m\u001b[43m,\u001b[49m\n\u001b[1;32m      3\u001b[0m \u001b[43m       \u001b[49m\u001b[43mverbose_eval\u001b[49m\u001b[38;5;241;43m=\u001b[39;49m\u001b[38;5;28;43;01mTrue\u001b[39;49;00m\u001b[43m,\u001b[49m\u001b[43m \u001b[49m\u001b[43mseed\u001b[49m\u001b[38;5;241;43m=\u001b[39;49m\u001b[43mseed\u001b[49m\u001b[43m)\u001b[49m\n",
      "File \u001b[0;32m/usr/local/anaconda3/lib/python3.9/site-packages/xgboost/training.py:512\u001b[0m, in \u001b[0;36mcv\u001b[0;34m(params, dtrain, num_boost_round, nfold, stratified, folds, metrics, obj, feval, maximize, early_stopping_rounds, fpreproc, as_pandas, verbose_eval, show_stdv, seed, callbacks, shuffle, custom_metric)\u001b[0m\n\u001b[1;32m    510\u001b[0m \u001b[38;5;28;01mif\u001b[39;00m callbacks\u001b[38;5;241m.\u001b[39mbefore_iteration(booster, i, dtrain, \u001b[38;5;28;01mNone\u001b[39;00m):\n\u001b[1;32m    511\u001b[0m     \u001b[38;5;28;01mbreak\u001b[39;00m\n\u001b[0;32m--> 512\u001b[0m \u001b[43mbooster\u001b[49m\u001b[38;5;241;43m.\u001b[39;49m\u001b[43mupdate\u001b[49m\u001b[43m(\u001b[49m\u001b[43mi\u001b[49m\u001b[43m,\u001b[49m\u001b[43m \u001b[49m\u001b[43mobj\u001b[49m\u001b[43m)\u001b[49m\n\u001b[1;32m    514\u001b[0m should_break \u001b[38;5;241m=\u001b[39m callbacks\u001b[38;5;241m.\u001b[39mafter_iteration(booster, i, dtrain, \u001b[38;5;28;01mNone\u001b[39;00m)\n\u001b[1;32m    515\u001b[0m res \u001b[38;5;241m=\u001b[39m callbacks\u001b[38;5;241m.\u001b[39maggregated_cv\n",
      "File \u001b[0;32m/usr/local/anaconda3/lib/python3.9/site-packages/xgboost/training.py:225\u001b[0m, in \u001b[0;36m_PackedBooster.update\u001b[0;34m(self, iteration, obj)\u001b[0m\n\u001b[1;32m    223\u001b[0m \u001b[38;5;124;03m'''Iterate through folds for update'''\u001b[39;00m\n\u001b[1;32m    224\u001b[0m \u001b[38;5;28;01mfor\u001b[39;00m fold \u001b[38;5;129;01min\u001b[39;00m \u001b[38;5;28mself\u001b[39m\u001b[38;5;241m.\u001b[39mcvfolds:\n\u001b[0;32m--> 225\u001b[0m     \u001b[43mfold\u001b[49m\u001b[38;5;241;43m.\u001b[39;49m\u001b[43mupdate\u001b[49m\u001b[43m(\u001b[49m\u001b[43miteration\u001b[49m\u001b[43m,\u001b[49m\u001b[43m \u001b[49m\u001b[43mobj\u001b[49m\u001b[43m)\u001b[49m\n",
      "File \u001b[0;32m/usr/local/anaconda3/lib/python3.9/site-packages/xgboost/training.py:211\u001b[0m, in \u001b[0;36mCVPack.update\u001b[0;34m(self, iteration, fobj)\u001b[0m\n\u001b[1;32m    209\u001b[0m \u001b[38;5;28;01mdef\u001b[39;00m \u001b[38;5;21mupdate\u001b[39m(\u001b[38;5;28mself\u001b[39m, iteration, fobj):\n\u001b[1;32m    210\u001b[0m     \u001b[38;5;124;03m\"\"\"\"Update the boosters for one iteration\"\"\"\u001b[39;00m\n\u001b[0;32m--> 211\u001b[0m     \u001b[38;5;28;43mself\u001b[39;49m\u001b[38;5;241;43m.\u001b[39;49m\u001b[43mbst\u001b[49m\u001b[38;5;241;43m.\u001b[39;49m\u001b[43mupdate\u001b[49m\u001b[43m(\u001b[49m\u001b[38;5;28;43mself\u001b[39;49m\u001b[38;5;241;43m.\u001b[39;49m\u001b[43mdtrain\u001b[49m\u001b[43m,\u001b[49m\u001b[43m \u001b[49m\u001b[43miteration\u001b[49m\u001b[43m,\u001b[49m\u001b[43m \u001b[49m\u001b[43mfobj\u001b[49m\u001b[43m)\u001b[49m\n",
      "File \u001b[0;32m/usr/local/anaconda3/lib/python3.9/site-packages/xgboost/core.py:1733\u001b[0m, in \u001b[0;36mBooster.update\u001b[0;34m(self, dtrain, iteration, fobj)\u001b[0m\n\u001b[1;32m   1730\u001b[0m \u001b[38;5;28mself\u001b[39m\u001b[38;5;241m.\u001b[39m_validate_features(dtrain)\n\u001b[1;32m   1732\u001b[0m \u001b[38;5;28;01mif\u001b[39;00m fobj \u001b[38;5;129;01mis\u001b[39;00m \u001b[38;5;28;01mNone\u001b[39;00m:\n\u001b[0;32m-> 1733\u001b[0m     _check_call(\u001b[43m_LIB\u001b[49m\u001b[38;5;241;43m.\u001b[39;49m\u001b[43mXGBoosterUpdateOneIter\u001b[49m\u001b[43m(\u001b[49m\u001b[38;5;28;43mself\u001b[39;49m\u001b[38;5;241;43m.\u001b[39;49m\u001b[43mhandle\u001b[49m\u001b[43m,\u001b[49m\n\u001b[1;32m   1734\u001b[0m \u001b[43m                                            \u001b[49m\u001b[43mctypes\u001b[49m\u001b[38;5;241;43m.\u001b[39;49m\u001b[43mc_int\u001b[49m\u001b[43m(\u001b[49m\u001b[43miteration\u001b[49m\u001b[43m)\u001b[49m\u001b[43m,\u001b[49m\n\u001b[1;32m   1735\u001b[0m \u001b[43m                                            \u001b[49m\u001b[43mdtrain\u001b[49m\u001b[38;5;241;43m.\u001b[39;49m\u001b[43mhandle\u001b[49m\u001b[43m)\u001b[49m)\n\u001b[1;32m   1736\u001b[0m \u001b[38;5;28;01melse\u001b[39;00m:\n\u001b[1;32m   1737\u001b[0m     pred \u001b[38;5;241m=\u001b[39m \u001b[38;5;28mself\u001b[39m\u001b[38;5;241m.\u001b[39mpredict(dtrain, output_margin\u001b[38;5;241m=\u001b[39m\u001b[38;5;28;01mTrue\u001b[39;00m, training\u001b[38;5;241m=\u001b[39m\u001b[38;5;28;01mTrue\u001b[39;00m)\n",
      "\u001b[0;31mKeyboardInterrupt\u001b[0m: "
     ]
    }
   ],
   "source": [
    "xgb.cv(params, matrix, num_boost_round=2_000, nfold=5,\n",
    "       folds=skf, metrics='logloss', early_stopping_rounds=32,\n",
    "       verbose_eval=True, seed=seed)"
   ]
  },
  {
   "cell_type": "code",
   "execution_count": null,
   "id": "0e90e207",
   "metadata": {},
   "outputs": [],
   "source": []
  }
 ],
 "metadata": {
  "kernelspec": {
   "display_name": "Python 3 (ipykernel)",
   "language": "python",
   "name": "python3"
  },
  "language_info": {
   "codemirror_mode": {
    "name": "ipython",
    "version": 3
   },
   "file_extension": ".py",
   "mimetype": "text/x-python",
   "name": "python",
   "nbconvert_exporter": "python",
   "pygments_lexer": "ipython3",
   "version": "3.9.12"
  }
 },
 "nbformat": 4,
 "nbformat_minor": 5
}
