{
 "cells": [
  {
   "cell_type": "code",
   "execution_count": 1,
   "id": "fc2b80c6",
   "metadata": {},
   "outputs": [],
   "source": [
    "import pandas as pd"
   ]
  },
  {
   "cell_type": "code",
   "execution_count": 3,
   "id": "dabbd162",
   "metadata": {},
   "outputs": [],
   "source": [
    "path = '../../data/prepared/'\n",
    "\n",
    "valid_df = pd.read_csv(path + 'val_data.csv')\n",
    "valid_labels = pd.read_csv(path + 'val_labels.csv')"
   ]
  },
  {
   "cell_type": "code",
   "execution_count": 4,
   "id": "3cfc6ab5",
   "metadata": {},
   "outputs": [
    {
     "data": {
      "text/html": [
       "<div>\n",
       "<style scoped>\n",
       "    .dataframe tbody tr th:only-of-type {\n",
       "        vertical-align: middle;\n",
       "    }\n",
       "\n",
       "    .dataframe tbody tr th {\n",
       "        vertical-align: top;\n",
       "    }\n",
       "\n",
       "    .dataframe thead th {\n",
       "        text-align: right;\n",
       "    }\n",
       "</style>\n",
       "<table border=\"1\" class=\"dataframe\">\n",
       "  <thead>\n",
       "    <tr style=\"text-align: right;\">\n",
       "      <th></th>\n",
       "      <th>customer_ID</th>\n",
       "      <th>S_2</th>\n",
       "      <th>P_2</th>\n",
       "      <th>D_39</th>\n",
       "      <th>B_1</th>\n",
       "      <th>B_2</th>\n",
       "      <th>R_1</th>\n",
       "      <th>S_3</th>\n",
       "      <th>D_41</th>\n",
       "      <th>B_3</th>\n",
       "      <th>...</th>\n",
       "      <th>D_136</th>\n",
       "      <th>D_137</th>\n",
       "      <th>D_138</th>\n",
       "      <th>D_139</th>\n",
       "      <th>D_140</th>\n",
       "      <th>D_141</th>\n",
       "      <th>D_142</th>\n",
       "      <th>D_143</th>\n",
       "      <th>D_144</th>\n",
       "      <th>D_145</th>\n",
       "    </tr>\n",
       "  </thead>\n",
       "  <tbody>\n",
       "    <tr>\n",
       "      <th>0</th>\n",
       "      <td>00000fd6641609c6ece5454664794f0340ad84dddce9a2...</td>\n",
       "      <td>2017-03-01</td>\n",
       "      <td>0.929122</td>\n",
       "      <td>0.382790</td>\n",
       "      <td>0.025782</td>\n",
       "      <td>1.002647</td>\n",
       "      <td>0.005515</td>\n",
       "      <td>0.089799</td>\n",
       "      <td>0.001479</td>\n",
       "      <td>0.005830</td>\n",
       "      <td>...</td>\n",
       "      <td>NaN</td>\n",
       "      <td>NaN</td>\n",
       "      <td>NaN</td>\n",
       "      <td>0.003776</td>\n",
       "      <td>0.001808</td>\n",
       "      <td>0.008200</td>\n",
       "      <td>NaN</td>\n",
       "      <td>0.001061</td>\n",
       "      <td>0.000027</td>\n",
       "      <td>0.002629</td>\n",
       "    </tr>\n",
       "    <tr>\n",
       "      <th>1</th>\n",
       "      <td>00000fd6641609c6ece5454664794f0340ad84dddce9a2...</td>\n",
       "      <td>2017-04-16</td>\n",
       "      <td>0.918431</td>\n",
       "      <td>0.002224</td>\n",
       "      <td>0.006806</td>\n",
       "      <td>1.008186</td>\n",
       "      <td>0.003287</td>\n",
       "      <td>0.095966</td>\n",
       "      <td>0.007831</td>\n",
       "      <td>0.000861</td>\n",
       "      <td>...</td>\n",
       "      <td>NaN</td>\n",
       "      <td>NaN</td>\n",
       "      <td>NaN</td>\n",
       "      <td>0.004046</td>\n",
       "      <td>0.008288</td>\n",
       "      <td>0.001375</td>\n",
       "      <td>NaN</td>\n",
       "      <td>0.009999</td>\n",
       "      <td>0.002669</td>\n",
       "      <td>0.006912</td>\n",
       "    </tr>\n",
       "    <tr>\n",
       "      <th>2</th>\n",
       "      <td>00000fd6641609c6ece5454664794f0340ad84dddce9a2...</td>\n",
       "      <td>2017-05-07</td>\n",
       "      <td>0.922563</td>\n",
       "      <td>0.567403</td>\n",
       "      <td>0.033713</td>\n",
       "      <td>1.007497</td>\n",
       "      <td>0.005594</td>\n",
       "      <td>0.094655</td>\n",
       "      <td>0.003162</td>\n",
       "      <td>0.010466</td>\n",
       "      <td>...</td>\n",
       "      <td>NaN</td>\n",
       "      <td>NaN</td>\n",
       "      <td>NaN</td>\n",
       "      <td>0.007742</td>\n",
       "      <td>0.002693</td>\n",
       "      <td>0.009851</td>\n",
       "      <td>NaN</td>\n",
       "      <td>0.000996</td>\n",
       "      <td>0.003254</td>\n",
       "      <td>0.004469</td>\n",
       "    </tr>\n",
       "    <tr>\n",
       "      <th>3</th>\n",
       "      <td>00000fd6641609c6ece5454664794f0340ad84dddce9a2...</td>\n",
       "      <td>2017-06-25</td>\n",
       "      <td>0.919253</td>\n",
       "      <td>0.213193</td>\n",
       "      <td>0.031170</td>\n",
       "      <td>1.008534</td>\n",
       "      <td>0.008996</td>\n",
       "      <td>0.099089</td>\n",
       "      <td>0.009513</td>\n",
       "      <td>0.005360</td>\n",
       "      <td>...</td>\n",
       "      <td>NaN</td>\n",
       "      <td>NaN</td>\n",
       "      <td>NaN</td>\n",
       "      <td>0.002502</td>\n",
       "      <td>0.003399</td>\n",
       "      <td>0.004284</td>\n",
       "      <td>NaN</td>\n",
       "      <td>0.002642</td>\n",
       "      <td>0.004325</td>\n",
       "      <td>0.006308</td>\n",
       "    </tr>\n",
       "    <tr>\n",
       "      <th>4</th>\n",
       "      <td>00000fd6641609c6ece5454664794f0340ad84dddce9a2...</td>\n",
       "      <td>2017-07-30</td>\n",
       "      <td>0.901860</td>\n",
       "      <td>0.325467</td>\n",
       "      <td>0.109644</td>\n",
       "      <td>1.005098</td>\n",
       "      <td>0.008041</td>\n",
       "      <td>0.108526</td>\n",
       "      <td>0.000732</td>\n",
       "      <td>0.005484</td>\n",
       "      <td>...</td>\n",
       "      <td>NaN</td>\n",
       "      <td>NaN</td>\n",
       "      <td>NaN</td>\n",
       "      <td>0.000275</td>\n",
       "      <td>0.007992</td>\n",
       "      <td>0.006918</td>\n",
       "      <td>NaN</td>\n",
       "      <td>0.009869</td>\n",
       "      <td>0.002979</td>\n",
       "      <td>0.005527</td>\n",
       "    </tr>\n",
       "  </tbody>\n",
       "</table>\n",
       "<p>5 rows × 190 columns</p>\n",
       "</div>"
      ],
      "text/plain": [
       "                                         customer_ID         S_2       P_2  \\\n",
       "0  00000fd6641609c6ece5454664794f0340ad84dddce9a2...  2017-03-01  0.929122   \n",
       "1  00000fd6641609c6ece5454664794f0340ad84dddce9a2...  2017-04-16  0.918431   \n",
       "2  00000fd6641609c6ece5454664794f0340ad84dddce9a2...  2017-05-07  0.922563   \n",
       "3  00000fd6641609c6ece5454664794f0340ad84dddce9a2...  2017-06-25  0.919253   \n",
       "4  00000fd6641609c6ece5454664794f0340ad84dddce9a2...  2017-07-30  0.901860   \n",
       "\n",
       "       D_39       B_1       B_2       R_1       S_3      D_41       B_3  ...  \\\n",
       "0  0.382790  0.025782  1.002647  0.005515  0.089799  0.001479  0.005830  ...   \n",
       "1  0.002224  0.006806  1.008186  0.003287  0.095966  0.007831  0.000861  ...   \n",
       "2  0.567403  0.033713  1.007497  0.005594  0.094655  0.003162  0.010466  ...   \n",
       "3  0.213193  0.031170  1.008534  0.008996  0.099089  0.009513  0.005360  ...   \n",
       "4  0.325467  0.109644  1.005098  0.008041  0.108526  0.000732  0.005484  ...   \n",
       "\n",
       "   D_136  D_137  D_138     D_139     D_140     D_141  D_142     D_143  \\\n",
       "0    NaN    NaN    NaN  0.003776  0.001808  0.008200    NaN  0.001061   \n",
       "1    NaN    NaN    NaN  0.004046  0.008288  0.001375    NaN  0.009999   \n",
       "2    NaN    NaN    NaN  0.007742  0.002693  0.009851    NaN  0.000996   \n",
       "3    NaN    NaN    NaN  0.002502  0.003399  0.004284    NaN  0.002642   \n",
       "4    NaN    NaN    NaN  0.000275  0.007992  0.006918    NaN  0.009869   \n",
       "\n",
       "      D_144     D_145  \n",
       "0  0.000027  0.002629  \n",
       "1  0.002669  0.006912  \n",
       "2  0.003254  0.004469  \n",
       "3  0.004325  0.006308  \n",
       "4  0.002979  0.005527  \n",
       "\n",
       "[5 rows x 190 columns]"
      ]
     },
     "execution_count": 4,
     "metadata": {},
     "output_type": "execute_result"
    }
   ],
   "source": [
    "valid_df.head()"
   ]
  },
  {
   "cell_type": "code",
   "execution_count": 5,
   "id": "5f4c9b3f",
   "metadata": {},
   "outputs": [
    {
     "data": {
      "text/html": [
       "<div>\n",
       "<style scoped>\n",
       "    .dataframe tbody tr th:only-of-type {\n",
       "        vertical-align: middle;\n",
       "    }\n",
       "\n",
       "    .dataframe tbody tr th {\n",
       "        vertical-align: top;\n",
       "    }\n",
       "\n",
       "    .dataframe thead th {\n",
       "        text-align: right;\n",
       "    }\n",
       "</style>\n",
       "<table border=\"1\" class=\"dataframe\">\n",
       "  <thead>\n",
       "    <tr style=\"text-align: right;\">\n",
       "      <th></th>\n",
       "      <th>customer_ID</th>\n",
       "      <th>target</th>\n",
       "    </tr>\n",
       "  </thead>\n",
       "  <tbody>\n",
       "    <tr>\n",
       "      <th>0</th>\n",
       "      <td>fe0b6ed3f5ef7353e8980e5da72cf46f8cb80c3894dd76...</td>\n",
       "      <td>0</td>\n",
       "    </tr>\n",
       "    <tr>\n",
       "      <th>1</th>\n",
       "      <td>a35586d1ed04531a80199c76bbf32c8eab4c43f1f59c97...</td>\n",
       "      <td>0</td>\n",
       "    </tr>\n",
       "    <tr>\n",
       "      <th>2</th>\n",
       "      <td>e474d43060190cdc995616f0066f37b184f0628ab52d84...</td>\n",
       "      <td>0</td>\n",
       "    </tr>\n",
       "    <tr>\n",
       "      <th>3</th>\n",
       "      <td>c63e46f3dc819d25dcc9bba394452f7417894030b7ed41...</td>\n",
       "      <td>0</td>\n",
       "    </tr>\n",
       "    <tr>\n",
       "      <th>4</th>\n",
       "      <td>a54f7277592c93dabe51287296b23a79bfc1994f3d201d...</td>\n",
       "      <td>0</td>\n",
       "    </tr>\n",
       "  </tbody>\n",
       "</table>\n",
       "</div>"
      ],
      "text/plain": [
       "                                         customer_ID  target\n",
       "0  fe0b6ed3f5ef7353e8980e5da72cf46f8cb80c3894dd76...       0\n",
       "1  a35586d1ed04531a80199c76bbf32c8eab4c43f1f59c97...       0\n",
       "2  e474d43060190cdc995616f0066f37b184f0628ab52d84...       0\n",
       "3  c63e46f3dc819d25dcc9bba394452f7417894030b7ed41...       0\n",
       "4  a54f7277592c93dabe51287296b23a79bfc1994f3d201d...       0"
      ]
     },
     "execution_count": 5,
     "metadata": {},
     "output_type": "execute_result"
    }
   ],
   "source": [
    "valid_labels.head()"
   ]
  },
  {
   "cell_type": "code",
   "execution_count": 6,
   "id": "7e278fef",
   "metadata": {},
   "outputs": [
    {
     "data": {
      "text/plain": [
       "(1397562, 190)"
      ]
     },
     "execution_count": 6,
     "metadata": {},
     "output_type": "execute_result"
    }
   ],
   "source": [
    "valid_df.shape"
   ]
  },
  {
   "cell_type": "code",
   "execution_count": 7,
   "id": "cf654e7b",
   "metadata": {},
   "outputs": [
    {
     "data": {
      "text/plain": [
       "(214152, 2)"
      ]
     },
     "execution_count": 7,
     "metadata": {},
     "output_type": "execute_result"
    }
   ],
   "source": [
    "valid_labels.shape"
   ]
  },
  {
   "cell_type": "code",
   "execution_count": 8,
   "id": "ecbfe839",
   "metadata": {},
   "outputs": [
    {
     "data": {
      "text/plain": [
       "115976"
      ]
     },
     "execution_count": 8,
     "metadata": {},
     "output_type": "execute_result"
    }
   ],
   "source": [
    "valid_df.customer_ID.nunique()"
   ]
  },
  {
   "cell_type": "code",
   "execution_count": 9,
   "id": "2ba3139f",
   "metadata": {},
   "outputs": [],
   "source": [
    "train_df = pd.read_csv(path + 'train_data.csv')\n",
    "train_labels = pd.read_csv(path + 'train_labels.csv')"
   ]
  },
  {
   "cell_type": "code",
   "execution_count": 10,
   "id": "d7d818c9",
   "metadata": {},
   "outputs": [
    {
     "data": {
      "text/plain": [
       "(39007, 2)"
      ]
     },
     "execution_count": 10,
     "metadata": {},
     "output_type": "execute_result"
    }
   ],
   "source": [
    "train_labels.shape"
   ]
  },
  {
   "cell_type": "code",
   "execution_count": 11,
   "id": "06d4647b",
   "metadata": {},
   "outputs": [
    {
     "data": {
      "text/plain": [
       "21069"
      ]
     },
     "execution_count": 11,
     "metadata": {},
     "output_type": "execute_result"
    }
   ],
   "source": [
    "train_df.customer_ID.nunique()"
   ]
  },
  {
   "cell_type": "code",
   "execution_count": 19,
   "id": "d9229da2",
   "metadata": {},
   "outputs": [],
   "source": [
    "train_mask = train_labels.customer_ID.isin(train_df.customer_ID.tolist())"
   ]
  },
  {
   "cell_type": "code",
   "execution_count": 21,
   "id": "3d92c08e",
   "metadata": {},
   "outputs": [
    {
     "data": {
      "text/html": [
       "<div>\n",
       "<style scoped>\n",
       "    .dataframe tbody tr th:only-of-type {\n",
       "        vertical-align: middle;\n",
       "    }\n",
       "\n",
       "    .dataframe tbody tr th {\n",
       "        vertical-align: top;\n",
       "    }\n",
       "\n",
       "    .dataframe thead th {\n",
       "        text-align: right;\n",
       "    }\n",
       "</style>\n",
       "<table border=\"1\" class=\"dataframe\">\n",
       "  <thead>\n",
       "    <tr style=\"text-align: right;\">\n",
       "      <th></th>\n",
       "      <th>customer_ID</th>\n",
       "      <th>target</th>\n",
       "    </tr>\n",
       "  </thead>\n",
       "  <tbody>\n",
       "    <tr>\n",
       "      <th>0</th>\n",
       "      <td>e039c846adcb1bfd543d89b8beba6a0f1a2ecdf835cd22...</td>\n",
       "      <td>0</td>\n",
       "    </tr>\n",
       "    <tr>\n",
       "      <th>1</th>\n",
       "      <td>8a96ff0aacb31ab4aab4cd15f13e024c04f986b8926789...</td>\n",
       "      <td>0</td>\n",
       "    </tr>\n",
       "    <tr>\n",
       "      <th>2</th>\n",
       "      <td>cfe6ef5945ef9c04937bb1826ec350ae7f2d173867f7fe...</td>\n",
       "      <td>0</td>\n",
       "    </tr>\n",
       "    <tr>\n",
       "      <th>3</th>\n",
       "      <td>9b677e823a94355cf65d2b97930dd59fce82cbf69e82b8...</td>\n",
       "      <td>1</td>\n",
       "    </tr>\n",
       "    <tr>\n",
       "      <th>4</th>\n",
       "      <td>d48853a03d0d463a4b058d129453daaf530160ccc4f0c2...</td>\n",
       "      <td>0</td>\n",
       "    </tr>\n",
       "    <tr>\n",
       "      <th>...</th>\n",
       "      <td>...</td>\n",
       "      <td>...</td>\n",
       "    </tr>\n",
       "    <tr>\n",
       "      <th>38998</th>\n",
       "      <td>bfa6d5c16a260a8578deb910bd1f9c402aaa7b3d26641d...</td>\n",
       "      <td>0</td>\n",
       "    </tr>\n",
       "    <tr>\n",
       "      <th>39000</th>\n",
       "      <td>a00f037723935861a8f70fa903b98addaf41aa94a1e121...</td>\n",
       "      <td>0</td>\n",
       "    </tr>\n",
       "    <tr>\n",
       "      <th>39001</th>\n",
       "      <td>b69c8c231373ae76a0a4d84a4ad30997e57d7793ad5af8...</td>\n",
       "      <td>0</td>\n",
       "    </tr>\n",
       "    <tr>\n",
       "      <th>39004</th>\n",
       "      <td>8edaca5e3bfb75028c71f11b38d0cb1d7e2565277ec909...</td>\n",
       "      <td>1</td>\n",
       "    </tr>\n",
       "    <tr>\n",
       "      <th>39005</th>\n",
       "      <td>8d0f928ebe331f7e9bcf6b4bfed6f305328ebdebe8b7f4...</td>\n",
       "      <td>0</td>\n",
       "    </tr>\n",
       "  </tbody>\n",
       "</table>\n",
       "<p>17938 rows × 2 columns</p>\n",
       "</div>"
      ],
      "text/plain": [
       "                                             customer_ID  target\n",
       "0      e039c846adcb1bfd543d89b8beba6a0f1a2ecdf835cd22...       0\n",
       "1      8a96ff0aacb31ab4aab4cd15f13e024c04f986b8926789...       0\n",
       "2      cfe6ef5945ef9c04937bb1826ec350ae7f2d173867f7fe...       0\n",
       "3      9b677e823a94355cf65d2b97930dd59fce82cbf69e82b8...       1\n",
       "4      d48853a03d0d463a4b058d129453daaf530160ccc4f0c2...       0\n",
       "...                                                  ...     ...\n",
       "38998  bfa6d5c16a260a8578deb910bd1f9c402aaa7b3d26641d...       0\n",
       "39000  a00f037723935861a8f70fa903b98addaf41aa94a1e121...       0\n",
       "39001  b69c8c231373ae76a0a4d84a4ad30997e57d7793ad5af8...       0\n",
       "39004  8edaca5e3bfb75028c71f11b38d0cb1d7e2565277ec909...       1\n",
       "39005  8d0f928ebe331f7e9bcf6b4bfed6f305328ebdebe8b7f4...       0\n",
       "\n",
       "[17938 rows x 2 columns]"
      ]
     },
     "execution_count": 21,
     "metadata": {},
     "output_type": "execute_result"
    }
   ],
   "source": [
    "train_labels[~train_mask]"
   ]
  },
  {
   "cell_type": "code",
   "execution_count": 17,
   "id": "c1473423",
   "metadata": {},
   "outputs": [
    {
     "data": {
      "text/plain": [
       "(39007, 2)"
      ]
     },
     "execution_count": 17,
     "metadata": {},
     "output_type": "execute_result"
    }
   ],
   "source": [
    "train_labels.shape"
   ]
  },
  {
   "cell_type": "code",
   "execution_count": 15,
   "id": "ad1c6e08",
   "metadata": {},
   "outputs": [
    {
     "data": {
      "text/plain": [
       "1397562"
      ]
     },
     "execution_count": 15,
     "metadata": {},
     "output_type": "execute_result"
    }
   ],
   "source": [
    "valid_df.customer_ID.isin(valid_labels.customer_ID.tolist()).sum()"
   ]
  },
  {
   "cell_type": "code",
   "execution_count": 22,
   "id": "f525ad82",
   "metadata": {},
   "outputs": [],
   "source": [
    "X_df = pd.read_csv('../../data/raw/train_data.csv')\n",
    "y_df = pd.read_csv('../../data/raw/train_labels.csv')"
   ]
  },
  {
   "cell_type": "code",
   "execution_count": 23,
   "id": "2971b6d6",
   "metadata": {},
   "outputs": [],
   "source": [
    "y_df_mask = y_df.customer_ID.isin(X_df.customer_ID.tolist())"
   ]
  },
  {
   "cell_type": "code",
   "execution_count": 26,
   "id": "988cdf1a",
   "metadata": {},
   "outputs": [
    {
     "data": {
      "text/html": [
       "<div>\n",
       "<style scoped>\n",
       "    .dataframe tbody tr th:only-of-type {\n",
       "        vertical-align: middle;\n",
       "    }\n",
       "\n",
       "    .dataframe tbody tr th {\n",
       "        vertical-align: top;\n",
       "    }\n",
       "\n",
       "    .dataframe thead th {\n",
       "        text-align: right;\n",
       "    }\n",
       "</style>\n",
       "<table border=\"1\" class=\"dataframe\">\n",
       "  <thead>\n",
       "    <tr style=\"text-align: right;\">\n",
       "      <th></th>\n",
       "      <th>customer_ID</th>\n",
       "      <th>target</th>\n",
       "    </tr>\n",
       "  </thead>\n",
       "  <tbody>\n",
       "    <tr>\n",
       "      <th>0</th>\n",
       "      <td>0000099d6bd597052cdcda90ffabf56573fe9d7c79be5f...</td>\n",
       "      <td>0</td>\n",
       "    </tr>\n",
       "    <tr>\n",
       "      <th>1</th>\n",
       "      <td>00000fd6641609c6ece5454664794f0340ad84dddce9a2...</td>\n",
       "      <td>0</td>\n",
       "    </tr>\n",
       "    <tr>\n",
       "      <th>2</th>\n",
       "      <td>00001b22f846c82c51f6e3958ccd81970162bae8b007e8...</td>\n",
       "      <td>0</td>\n",
       "    </tr>\n",
       "    <tr>\n",
       "      <th>3</th>\n",
       "      <td>000041bdba6ecadd89a52d11886e8eaaec9325906c9723...</td>\n",
       "      <td>0</td>\n",
       "    </tr>\n",
       "    <tr>\n",
       "      <th>4</th>\n",
       "      <td>00007889e4fcd2614b6cbe7f8f3d2e5c728eca32d9eb8a...</td>\n",
       "      <td>0</td>\n",
       "    </tr>\n",
       "    <tr>\n",
       "      <th>...</th>\n",
       "      <td>...</td>\n",
       "      <td>...</td>\n",
       "    </tr>\n",
       "    <tr>\n",
       "      <th>248100</th>\n",
       "      <td>8a1a48e562746373c82e7dbe9d146edb0d7e74f00d0796...</td>\n",
       "      <td>0</td>\n",
       "    </tr>\n",
       "    <tr>\n",
       "      <th>248101</th>\n",
       "      <td>8a1a4aedc2a01aa555883b3304a998c65a4b6d37f67c24...</td>\n",
       "      <td>0</td>\n",
       "    </tr>\n",
       "    <tr>\n",
       "      <th>248102</th>\n",
       "      <td>8a1a51b903f47f8e4d1361df6a411b80f57a189d95a422...</td>\n",
       "      <td>0</td>\n",
       "    </tr>\n",
       "    <tr>\n",
       "      <th>248103</th>\n",
       "      <td>8a1a63b8f8b12d173f54e4d9a73069fc1cf42ed0550149...</td>\n",
       "      <td>0</td>\n",
       "    </tr>\n",
       "    <tr>\n",
       "      <th>248104</th>\n",
       "      <td>8a1a980eefab5c51a0b96b15b2a6f9f6d41a7da395e075...</td>\n",
       "      <td>0</td>\n",
       "    </tr>\n",
       "  </tbody>\n",
       "</table>\n",
       "<p>248105 rows × 2 columns</p>\n",
       "</div>"
      ],
      "text/plain": [
       "                                              customer_ID  target\n",
       "0       0000099d6bd597052cdcda90ffabf56573fe9d7c79be5f...       0\n",
       "1       00000fd6641609c6ece5454664794f0340ad84dddce9a2...       0\n",
       "2       00001b22f846c82c51f6e3958ccd81970162bae8b007e8...       0\n",
       "3       000041bdba6ecadd89a52d11886e8eaaec9325906c9723...       0\n",
       "4       00007889e4fcd2614b6cbe7f8f3d2e5c728eca32d9eb8a...       0\n",
       "...                                                   ...     ...\n",
       "248100  8a1a48e562746373c82e7dbe9d146edb0d7e74f00d0796...       0\n",
       "248101  8a1a4aedc2a01aa555883b3304a998c65a4b6d37f67c24...       0\n",
       "248102  8a1a51b903f47f8e4d1361df6a411b80f57a189d95a422...       0\n",
       "248103  8a1a63b8f8b12d173f54e4d9a73069fc1cf42ed0550149...       0\n",
       "248104  8a1a980eefab5c51a0b96b15b2a6f9f6d41a7da395e075...       0\n",
       "\n",
       "[248105 rows x 2 columns]"
      ]
     },
     "execution_count": 26,
     "metadata": {},
     "output_type": "execute_result"
    }
   ],
   "source": [
    "y_df[y_df_mask]"
   ]
  },
  {
   "cell_type": "code",
   "execution_count": 25,
   "id": "b2b3b524",
   "metadata": {},
   "outputs": [
    {
     "data": {
      "text/html": [
       "<div>\n",
       "<style scoped>\n",
       "    .dataframe tbody tr th:only-of-type {\n",
       "        vertical-align: middle;\n",
       "    }\n",
       "\n",
       "    .dataframe tbody tr th {\n",
       "        vertical-align: top;\n",
       "    }\n",
       "\n",
       "    .dataframe thead th {\n",
       "        text-align: right;\n",
       "    }\n",
       "</style>\n",
       "<table border=\"1\" class=\"dataframe\">\n",
       "  <thead>\n",
       "    <tr style=\"text-align: right;\">\n",
       "      <th></th>\n",
       "      <th>customer_ID</th>\n",
       "      <th>target</th>\n",
       "    </tr>\n",
       "  </thead>\n",
       "  <tbody>\n",
       "    <tr>\n",
       "      <th>248105</th>\n",
       "      <td>8a1aeb076a2c9230f592a1fe260c9a97c1dd8c64968db6...</td>\n",
       "      <td>0</td>\n",
       "    </tr>\n",
       "    <tr>\n",
       "      <th>248106</th>\n",
       "      <td>8a1b012b642b23d95bf1270fbed93ad957a149e3ff4333...</td>\n",
       "      <td>0</td>\n",
       "    </tr>\n",
       "    <tr>\n",
       "      <th>248107</th>\n",
       "      <td>8a1b46a76eb81e4a3a8e9cc2bde0226fde1e64549306c3...</td>\n",
       "      <td>0</td>\n",
       "    </tr>\n",
       "    <tr>\n",
       "      <th>248108</th>\n",
       "      <td>8a1b4ffdc34dee6cdafcd034fc3a3d1b667f7e50a86f6e...</td>\n",
       "      <td>0</td>\n",
       "    </tr>\n",
       "    <tr>\n",
       "      <th>248109</th>\n",
       "      <td>8a1b9948a965fdaa0889648b5af97f560ae2a3a58f80b5...</td>\n",
       "      <td>0</td>\n",
       "    </tr>\n",
       "    <tr>\n",
       "      <th>...</th>\n",
       "      <td>...</td>\n",
       "      <td>...</td>\n",
       "    </tr>\n",
       "    <tr>\n",
       "      <th>458908</th>\n",
       "      <td>ffff41c8a52833b56430603969b9ca48d208e7c192c6a4...</td>\n",
       "      <td>0</td>\n",
       "    </tr>\n",
       "    <tr>\n",
       "      <th>458909</th>\n",
       "      <td>ffff518bb2075e4816ee3fe9f3b152c57fc0e6f01bf7fd...</td>\n",
       "      <td>0</td>\n",
       "    </tr>\n",
       "    <tr>\n",
       "      <th>458910</th>\n",
       "      <td>ffff9984b999fccb2b6127635ed0736dda94e544e67e02...</td>\n",
       "      <td>0</td>\n",
       "    </tr>\n",
       "    <tr>\n",
       "      <th>458911</th>\n",
       "      <td>ffffa5c46bc8de74f5a4554e74e239c8dee6b9baf38814...</td>\n",
       "      <td>1</td>\n",
       "    </tr>\n",
       "    <tr>\n",
       "      <th>458912</th>\n",
       "      <td>fffff1d38b785cef84adeace64f8f83db3a0c31e8d92ea...</td>\n",
       "      <td>0</td>\n",
       "    </tr>\n",
       "  </tbody>\n",
       "</table>\n",
       "<p>210808 rows × 2 columns</p>\n",
       "</div>"
      ],
      "text/plain": [
       "                                              customer_ID  target\n",
       "248105  8a1aeb076a2c9230f592a1fe260c9a97c1dd8c64968db6...       0\n",
       "248106  8a1b012b642b23d95bf1270fbed93ad957a149e3ff4333...       0\n",
       "248107  8a1b46a76eb81e4a3a8e9cc2bde0226fde1e64549306c3...       0\n",
       "248108  8a1b4ffdc34dee6cdafcd034fc3a3d1b667f7e50a86f6e...       0\n",
       "248109  8a1b9948a965fdaa0889648b5af97f560ae2a3a58f80b5...       0\n",
       "...                                                   ...     ...\n",
       "458908  ffff41c8a52833b56430603969b9ca48d208e7c192c6a4...       0\n",
       "458909  ffff518bb2075e4816ee3fe9f3b152c57fc0e6f01bf7fd...       0\n",
       "458910  ffff9984b999fccb2b6127635ed0736dda94e544e67e02...       0\n",
       "458911  ffffa5c46bc8de74f5a4554e74e239c8dee6b9baf38814...       1\n",
       "458912  fffff1d38b785cef84adeace64f8f83db3a0c31e8d92ea...       0\n",
       "\n",
       "[210808 rows x 2 columns]"
      ]
     },
     "execution_count": 25,
     "metadata": {},
     "output_type": "execute_result"
    }
   ],
   "source": [
    "y_df[~y_df_mask]"
   ]
  },
  {
   "cell_type": "code",
   "execution_count": null,
   "id": "b6e22ed7",
   "metadata": {},
   "outputs": [],
   "source": []
  }
 ],
 "metadata": {
  "kernelspec": {
   "display_name": "Python 3 (ipykernel)",
   "language": "python",
   "name": "python3"
  },
  "language_info": {
   "codemirror_mode": {
    "name": "ipython",
    "version": 3
   },
   "file_extension": ".py",
   "mimetype": "text/x-python",
   "name": "python",
   "nbconvert_exporter": "python",
   "pygments_lexer": "ipython3",
   "version": "3.9.12"
  }
 },
 "nbformat": 4,
 "nbformat_minor": 5
}
