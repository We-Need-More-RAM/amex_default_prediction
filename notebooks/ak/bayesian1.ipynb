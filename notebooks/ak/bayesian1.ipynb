{
 "cells": [
  {
   "cell_type": "code",
   "execution_count": 1,
   "id": "215f5e1f",
   "metadata": {},
   "outputs": [
    {
     "data": {
      "application/javascript": [
       "IPython.notebook.set_autosave_interval(0)"
      ]
     },
     "metadata": {},
     "output_type": "display_data"
    },
    {
     "name": "stdout",
     "output_type": "stream",
     "text": [
      "Autosave disabled\n"
     ]
    }
   ],
   "source": [
    "%autosave 0"
   ]
  },
  {
   "cell_type": "code",
   "execution_count": 15,
   "id": "099231ae",
   "metadata": {},
   "outputs": [],
   "source": [
    "import pandas as pd\n",
    "import numpy as np\n",
    "import xgboost as xgb\n",
    "import myfunctions as mf\n",
    "from bayes_opt import BayesianOptimization\n",
    "from sklearn.model_selection import train_test_split, GridSearchCV, StratifiedKFold"
   ]
  },
  {
   "cell_type": "code",
   "execution_count": 3,
   "id": "891035cb",
   "metadata": {},
   "outputs": [],
   "source": [
    "df = pd.read_csv('prepped_data.csv')\n",
    "\n",
    "train_labels = pd.read_csv('../../data/prepared/train_labels.csv')\n",
    "val_labels = pd.read_csv('../../data/prepared/val_labels.csv')"
   ]
  },
  {
   "cell_type": "code",
   "execution_count": 4,
   "id": "1cae2455",
   "metadata": {},
   "outputs": [
    {
     "data": {
      "text/plain": [
       "((253159, 1307), (39007, 2), (214152, 2))"
      ]
     },
     "execution_count": 4,
     "metadata": {},
     "output_type": "execute_result"
    }
   ],
   "source": [
    "df.shape, train_labels.shape, val_labels.shape"
   ]
  },
  {
   "cell_type": "code",
   "execution_count": 5,
   "id": "a57c6685",
   "metadata": {},
   "outputs": [
    {
     "data": {
      "text/plain": [
       "((227843, 1307), (25316, 1307))"
      ]
     },
     "execution_count": 5,
     "metadata": {},
     "output_type": "execute_result"
    }
   ],
   "source": [
    "seed=42\n",
    "\n",
    "train, val = train_test_split(df, train_size=0.9,\n",
    "                              random_state=seed)\n",
    "\n",
    "train.shape, val.shape"
   ]
  },
  {
   "cell_type": "code",
   "execution_count": 6,
   "id": "f6f13098",
   "metadata": {},
   "outputs": [
    {
     "data": {
      "text/plain": [
       "(253159, 2)"
      ]
     },
     "execution_count": 6,
     "metadata": {},
     "output_type": "execute_result"
    }
   ],
   "source": [
    "all_labels = pd.concat([train_labels, val_labels], axis=0)\n",
    "\n",
    "all_labels.shape"
   ]
  },
  {
   "cell_type": "code",
   "execution_count": 7,
   "id": "c7ee3861",
   "metadata": {},
   "outputs": [
    {
     "data": {
      "text/plain": [
       "((227843, 1308), (25316, 1308))"
      ]
     },
     "execution_count": 7,
     "metadata": {},
     "output_type": "execute_result"
    }
   ],
   "source": [
    "train_final = train.merge(all_labels, how='left', on='customer_ID')\n",
    "val_final = val.merge(all_labels, how='left', on='customer_ID')\n",
    "\n",
    "train_final.shape, val_final.shape"
   ]
  },
  {
   "cell_type": "code",
   "execution_count": 8,
   "id": "617a5de2",
   "metadata": {},
   "outputs": [],
   "source": [
    "train_final.drop(columns='customer_ID', inplace=True)\n",
    "val_final.drop(columns='customer_ID', inplace=True)"
   ]
  },
  {
   "cell_type": "code",
   "execution_count": 9,
   "id": "ed252356",
   "metadata": {},
   "outputs": [],
   "source": [
    "train_matrix = xgb.DMatrix(train_final.drop(columns='target'), label=train_final['target'])\n",
    "val_matrix = xgb.DMatrix(val_final.drop(columns='target'), label=val_final['target'])"
   ]
  },
  {
   "cell_type": "code",
   "execution_count": 28,
   "id": "f2f4a968",
   "metadata": {},
   "outputs": [],
   "source": [
    "train_X = train_final.drop(columns='target')\n",
    "train_y = train_final['target']\n",
    "\n",
    "val_X = val_final.drop(columns='target')\n",
    "val_y = val_final['target']"
   ]
  },
  {
   "cell_type": "code",
   "execution_count": 30,
   "id": "7d894c1c",
   "metadata": {},
   "outputs": [],
   "source": [
    "model = xgb.XGBClassifier().fit(train_X, train_y)"
   ]
  },
  {
   "cell_type": "code",
   "execution_count": 31,
   "id": "6ddbcfa5",
   "metadata": {},
   "outputs": [
    {
     "data": {
      "text/plain": [
       "0.5629355660396548"
      ]
     },
     "execution_count": 31,
     "metadata": {},
     "output_type": "execute_result"
    }
   ],
   "source": [
    "baseline = mf.model_evaluator(model, val_final.drop(columns='target'), val_final['target'])\n",
    "\n",
    "baseline"
   ]
  },
  {
   "cell_type": "code",
   "execution_count": 34,
   "id": "8f4fbf1a",
   "metadata": {},
   "outputs": [],
   "source": [
    "y_hat_base = model.predict_proba(val_X)[:,1]"
   ]
  },
  {
   "cell_type": "code",
   "execution_count": 35,
   "id": "f182aeae",
   "metadata": {},
   "outputs": [],
   "source": [
    "y_true_final = pd.DataFrame(val_y)"
   ]
  },
  {
   "cell_type": "code",
   "execution_count": 36,
   "id": "a32a8c0a",
   "metadata": {},
   "outputs": [],
   "source": [
    "y_hat_base_final = pd.DataFrame(y_hat_base, columns=['prediction'])"
   ]
  },
  {
   "cell_type": "code",
   "execution_count": 37,
   "id": "8f066c4b",
   "metadata": {},
   "outputs": [
    {
     "data": {
      "text/plain": [
       "0.778272447263978"
      ]
     },
     "execution_count": 37,
     "metadata": {},
     "output_type": "execute_result"
    }
   ],
   "source": [
    "mf.amex_metric(y_true_final, y_hat_base_final)"
   ]
  },
  {
   "cell_type": "code",
   "execution_count": 45,
   "id": "75e6dbe0",
   "metadata": {},
   "outputs": [],
   "source": [
    "def classifier_evaluator(model, data, y_true):\n",
    "    \n",
    "    y_hat = model.predict_proba(data)[:,1]\n",
    "    \n",
    "    y_true_final = pd.DataFrame(y_true)\n",
    "    \n",
    "    y_hat_final = pd.DataFrame(y_hat, columns=['prediction'])\n",
    "    \n",
    "    return amex_metric(y_true_final, y_hat_final)"
   ]
  },
  {
   "cell_type": "code",
   "execution_count": 40,
   "id": "5888f59e",
   "metadata": {},
   "outputs": [
    {
     "data": {
      "text/plain": [
       "<bound method XGBModel.get_params of XGBClassifier(base_score=0.5, booster='gbtree', callbacks=None,\n",
       "              colsample_bylevel=1, colsample_bynode=1, colsample_bytree=1,\n",
       "              early_stopping_rounds=None, enable_categorical=False,\n",
       "              eval_metric=None, gamma=0, gpu_id=-1, grow_policy='depthwise',\n",
       "              importance_type=None, interaction_constraints='',\n",
       "              learning_rate=0.300000012, max_bin=256, max_cat_to_onehot=4,\n",
       "              max_delta_step=0, max_depth=6, max_leaves=0, min_child_weight=1,\n",
       "              missing=nan, monotone_constraints='()', n_estimators=100,\n",
       "              n_jobs=0, num_parallel_tree=1, predictor='auto', random_state=0,\n",
       "              reg_alpha=0, reg_lambda=1, ...)>"
      ]
     },
     "execution_count": 40,
     "metadata": {},
     "output_type": "execute_result"
    }
   ],
   "source": [
    "model.get_params"
   ]
  },
  {
   "cell_type": "code",
   "execution_count": 42,
   "id": "4d32db16",
   "metadata": {},
   "outputs": [],
   "source": [
    "params = {\n",
    "    'learning_rate': [0.05, 0.1],\n",
    "    'max_depth': [3, 4, 5],\n",
    "    'min_child_weight': [5, 10],\n",
    "    'subsample': [0.6, 0.8],\n",
    "    'colsample_bytree': [0.6, 0.8],\n",
    "}"
   ]
  },
  {
   "cell_type": "code",
   "execution_count": 43,
   "id": "5cf769c6",
   "metadata": {},
   "outputs": [],
   "source": [
    "clf = GridSearchCV(model, params, scoring='neg_log_loss',\n",
    "                   refit=True, cv=2,\n",
    "                   verbose=3,\n",
    "                   return_train_score=True)"
   ]
  },
  {
   "cell_type": "code",
   "execution_count": 44,
   "id": "37c248b7",
   "metadata": {},
   "outputs": [
    {
     "name": "stdout",
     "output_type": "stream",
     "text": [
      "Fitting 2 folds for each of 48 candidates, totalling 96 fits\n",
      "[CV 1/2] END colsample_bytree=0.6, learning_rate=0.05, max_depth=3, min_child_weight=5, subsample=0.6;, score=(train=-0.244, test=-0.248) total time= 2.6min\n",
      "[CV 2/2] END colsample_bytree=0.6, learning_rate=0.05, max_depth=3, min_child_weight=5, subsample=0.6;, score=(train=-0.244, test=-0.248) total time= 2.5min\n",
      "[CV 1/2] END colsample_bytree=0.6, learning_rate=0.05, max_depth=3, min_child_weight=5, subsample=0.8;, score=(train=-0.245, test=-0.249) total time= 2.8min\n",
      "[CV 2/2] END colsample_bytree=0.6, learning_rate=0.05, max_depth=3, min_child_weight=5, subsample=0.8;, score=(train=-0.244, test=-0.248) total time= 2.9min\n",
      "[CV 1/2] END colsample_bytree=0.6, learning_rate=0.05, max_depth=3, min_child_weight=10, subsample=0.6;, score=(train=-0.244, test=-0.248) total time= 2.5min\n",
      "[CV 2/2] END colsample_bytree=0.6, learning_rate=0.05, max_depth=3, min_child_weight=10, subsample=0.6;, score=(train=-0.244, test=-0.248) total time= 2.4min\n",
      "[CV 1/2] END colsample_bytree=0.6, learning_rate=0.05, max_depth=3, min_child_weight=10, subsample=0.8;, score=(train=-0.245, test=-0.249) total time= 2.8min\n",
      "[CV 2/2] END colsample_bytree=0.6, learning_rate=0.05, max_depth=3, min_child_weight=10, subsample=0.8;, score=(train=-0.245, test=-0.248) total time= 2.8min\n",
      "[CV 1/2] END colsample_bytree=0.6, learning_rate=0.05, max_depth=4, min_child_weight=5, subsample=0.6;, score=(train=-0.234, test=-0.242) total time= 3.3min\n",
      "[CV 2/2] END colsample_bytree=0.6, learning_rate=0.05, max_depth=4, min_child_weight=5, subsample=0.6;, score=(train=-0.234, test=-0.241) total time= 3.3min\n",
      "[CV 1/2] END colsample_bytree=0.6, learning_rate=0.05, max_depth=4, min_child_weight=5, subsample=0.8;, score=(train=-0.234, test=-0.242) total time= 3.7min\n",
      "[CV 2/2] END colsample_bytree=0.6, learning_rate=0.05, max_depth=4, min_child_weight=5, subsample=0.8;, score=(train=-0.234, test=-0.242) total time= 3.7min\n",
      "[CV 1/2] END colsample_bytree=0.6, learning_rate=0.05, max_depth=4, min_child_weight=10, subsample=0.6;, score=(train=-0.234, test=-0.242) total time= 3.2min\n",
      "[CV 2/2] END colsample_bytree=0.6, learning_rate=0.05, max_depth=4, min_child_weight=10, subsample=0.6;, score=(train=-0.234, test=-0.241) total time= 3.2min\n",
      "[CV 1/2] END colsample_bytree=0.6, learning_rate=0.05, max_depth=4, min_child_weight=10, subsample=0.8;, score=(train=-0.234, test=-0.242) total time= 3.7min\n",
      "[CV 2/2] END colsample_bytree=0.6, learning_rate=0.05, max_depth=4, min_child_weight=10, subsample=0.8;, score=(train=-0.234, test=-0.242) total time= 3.7min\n",
      "[CV 1/2] END colsample_bytree=0.6, learning_rate=0.05, max_depth=5, min_child_weight=5, subsample=0.6;, score=(train=-0.224, test=-0.237) total time= 3.9min\n",
      "[CV 2/2] END colsample_bytree=0.6, learning_rate=0.05, max_depth=5, min_child_weight=5, subsample=0.6;, score=(train=-0.224, test=-0.237) total time= 3.9min\n",
      "[CV 1/2] END colsample_bytree=0.6, learning_rate=0.05, max_depth=5, min_child_weight=5, subsample=0.8;, score=(train=-0.224, test=-0.237) total time= 4.5min\n",
      "[CV 2/2] END colsample_bytree=0.6, learning_rate=0.05, max_depth=5, min_child_weight=5, subsample=0.8;, score=(train=-0.223, test=-0.237) total time= 4.5min\n",
      "[CV 1/2] END colsample_bytree=0.6, learning_rate=0.05, max_depth=5, min_child_weight=10, subsample=0.6;, score=(train=-0.225, test=-0.237) total time= 3.8min\n",
      "[CV 2/2] END colsample_bytree=0.6, learning_rate=0.05, max_depth=5, min_child_weight=10, subsample=0.6;, score=(train=-0.225, test=-0.237) total time= 3.9min\n",
      "[CV 1/2] END colsample_bytree=0.6, learning_rate=0.05, max_depth=5, min_child_weight=10, subsample=0.8;, score=(train=-0.224, test=-0.237) total time= 4.5min\n",
      "[CV 2/2] END colsample_bytree=0.6, learning_rate=0.05, max_depth=5, min_child_weight=10, subsample=0.8;, score=(train=-0.224, test=-0.237) total time= 4.5min\n",
      "[CV 1/2] END colsample_bytree=0.6, learning_rate=0.1, max_depth=3, min_child_weight=5, subsample=0.6;, score=(train=-0.227, test=-0.234) total time= 2.5min\n",
      "[CV 2/2] END colsample_bytree=0.6, learning_rate=0.1, max_depth=3, min_child_weight=5, subsample=0.6;, score=(train=-0.226, test=-0.233) total time= 2.5min\n",
      "[CV 1/2] END colsample_bytree=0.6, learning_rate=0.1, max_depth=3, min_child_weight=5, subsample=0.8;, score=(train=-0.227, test=-0.234) total time= 2.8min\n",
      "[CV 2/2] END colsample_bytree=0.6, learning_rate=0.1, max_depth=3, min_child_weight=5, subsample=0.8;, score=(train=-0.226, test=-0.234) total time= 2.9min\n",
      "[CV 1/2] END colsample_bytree=0.6, learning_rate=0.1, max_depth=3, min_child_weight=10, subsample=0.6;, score=(train=-0.227, test=-0.234) total time= 2.5min\n",
      "[CV 2/2] END colsample_bytree=0.6, learning_rate=0.1, max_depth=3, min_child_weight=10, subsample=0.6;, score=(train=-0.226, test=-0.233) total time= 2.5min\n",
      "[CV 1/2] END colsample_bytree=0.6, learning_rate=0.1, max_depth=3, min_child_weight=10, subsample=0.8;, score=(train=-0.227, test=-0.234) total time= 2.8min\n",
      "[CV 2/2] END colsample_bytree=0.6, learning_rate=0.1, max_depth=3, min_child_weight=10, subsample=0.8;, score=(train=-0.226, test=-0.234) total time= 2.8min\n",
      "[CV 1/2] END colsample_bytree=0.6, learning_rate=0.1, max_depth=4, min_child_weight=5, subsample=0.6;, score=(train=-0.216, test=-0.230) total time= 3.1min\n",
      "[CV 2/2] END colsample_bytree=0.6, learning_rate=0.1, max_depth=4, min_child_weight=5, subsample=0.6;, score=(train=-0.215, test=-0.230) total time= 3.1min\n",
      "[CV 1/2] END colsample_bytree=0.6, learning_rate=0.1, max_depth=4, min_child_weight=5, subsample=0.8;, score=(train=-0.216, test=-0.230) total time= 3.6min\n",
      "[CV 2/2] END colsample_bytree=0.6, learning_rate=0.1, max_depth=4, min_child_weight=5, subsample=0.8;, score=(train=-0.215, test=-0.230) total time= 3.6min\n",
      "[CV 1/2] END colsample_bytree=0.6, learning_rate=0.1, max_depth=4, min_child_weight=10, subsample=0.6;, score=(train=-0.216, test=-0.230) total time= 3.1min\n",
      "[CV 2/2] END colsample_bytree=0.6, learning_rate=0.1, max_depth=4, min_child_weight=10, subsample=0.6;, score=(train=-0.216, test=-0.230) total time= 3.1min\n",
      "[CV 1/2] END colsample_bytree=0.6, learning_rate=0.1, max_depth=4, min_child_weight=10, subsample=0.8;, score=(train=-0.216, test=-0.230) total time= 3.6min\n",
      "[CV 2/2] END colsample_bytree=0.6, learning_rate=0.1, max_depth=4, min_child_weight=10, subsample=0.8;, score=(train=-0.215, test=-0.230) total time= 3.6min\n",
      "[CV 1/2] END colsample_bytree=0.6, learning_rate=0.1, max_depth=5, min_child_weight=5, subsample=0.6;, score=(train=-0.203, test=-0.229) total time= 3.8min\n",
      "[CV 2/2] END colsample_bytree=0.6, learning_rate=0.1, max_depth=5, min_child_weight=5, subsample=0.6;, score=(train=-0.201, test=-0.228) total time= 3.8min\n",
      "[CV 1/2] END colsample_bytree=0.6, learning_rate=0.1, max_depth=5, min_child_weight=5, subsample=0.8;, score=(train=-0.202, test=-0.229) total time= 4.4min\n",
      "[CV 2/2] END colsample_bytree=0.6, learning_rate=0.1, max_depth=5, min_child_weight=5, subsample=0.8;, score=(train=-0.201, test=-0.228) total time= 4.4min\n",
      "[CV 1/2] END colsample_bytree=0.6, learning_rate=0.1, max_depth=5, min_child_weight=10, subsample=0.6;, score=(train=-0.204, test=-0.229) total time= 3.8min\n",
      "[CV 2/2] END colsample_bytree=0.6, learning_rate=0.1, max_depth=5, min_child_weight=10, subsample=0.6;, score=(train=-0.203, test=-0.228) total time= 3.8min\n",
      "[CV 1/2] END colsample_bytree=0.6, learning_rate=0.1, max_depth=5, min_child_weight=10, subsample=0.8;, score=(train=-0.203, test=-0.228) total time= 4.4min\n",
      "[CV 2/2] END colsample_bytree=0.6, learning_rate=0.1, max_depth=5, min_child_weight=10, subsample=0.8;, score=(train=-0.203, test=-0.228) total time= 4.4min\n",
      "[CV 1/2] END colsample_bytree=0.8, learning_rate=0.05, max_depth=3, min_child_weight=5, subsample=0.6;, score=(train=-0.244, test=-0.249) total time= 3.1min\n",
      "[CV 2/2] END colsample_bytree=0.8, learning_rate=0.05, max_depth=3, min_child_weight=5, subsample=0.6;, score=(train=-0.244, test=-0.247) total time= 3.1min\n",
      "[CV 1/2] END colsample_bytree=0.8, learning_rate=0.05, max_depth=3, min_child_weight=5, subsample=0.8;, score=(train=-0.245, test=-0.249) total time= 3.6min\n",
      "[CV 2/2] END colsample_bytree=0.8, learning_rate=0.05, max_depth=3, min_child_weight=5, subsample=0.8;, score=(train=-0.244, test=-0.248) total time= 3.6min\n"
     ]
    },
    {
     "name": "stdout",
     "output_type": "stream",
     "text": [
      "[CV 1/2] END colsample_bytree=0.8, learning_rate=0.05, max_depth=3, min_child_weight=10, subsample=0.6;, score=(train=-0.244, test=-0.249) total time= 3.1min\n",
      "[CV 2/2] END colsample_bytree=0.8, learning_rate=0.05, max_depth=3, min_child_weight=10, subsample=0.6;, score=(train=-0.244, test=-0.248) total time= 3.1min\n",
      "[CV 1/2] END colsample_bytree=0.8, learning_rate=0.05, max_depth=3, min_child_weight=10, subsample=0.8;, score=(train=-0.245, test=-0.249) total time= 3.6min\n",
      "[CV 2/2] END colsample_bytree=0.8, learning_rate=0.05, max_depth=3, min_child_weight=10, subsample=0.8;, score=(train=-0.245, test=-0.248) total time= 3.6min\n",
      "[CV 1/2] END colsample_bytree=0.8, learning_rate=0.05, max_depth=4, min_child_weight=5, subsample=0.6;, score=(train=-0.234, test=-0.242) total time= 4.0min\n",
      "[CV 2/2] END colsample_bytree=0.8, learning_rate=0.05, max_depth=4, min_child_weight=5, subsample=0.6;, score=(train=-0.234, test=-0.241) total time= 4.0min\n",
      "[CV 1/2] END colsample_bytree=0.8, learning_rate=0.05, max_depth=4, min_child_weight=5, subsample=0.8;, score=(train=-0.234, test=-0.242) total time= 4.7min\n",
      "[CV 2/2] END colsample_bytree=0.8, learning_rate=0.05, max_depth=4, min_child_weight=5, subsample=0.8;, score=(train=-0.234, test=-0.241) total time= 4.7min\n",
      "[CV 1/2] END colsample_bytree=0.8, learning_rate=0.05, max_depth=4, min_child_weight=10, subsample=0.6;, score=(train=-0.234, test=-0.242) total time= 4.0min\n",
      "[CV 2/2] END colsample_bytree=0.8, learning_rate=0.05, max_depth=4, min_child_weight=10, subsample=0.6;, score=(train=-0.234, test=-0.241) total time= 4.0min\n",
      "[CV 1/2] END colsample_bytree=0.8, learning_rate=0.05, max_depth=4, min_child_weight=10, subsample=0.8;, score=(train=-0.234, test=-0.242) total time= 4.7min\n",
      "[CV 2/2] END colsample_bytree=0.8, learning_rate=0.05, max_depth=4, min_child_weight=10, subsample=0.8;, score=(train=-0.234, test=-0.241) total time= 4.7min\n",
      "[CV 1/2] END colsample_bytree=0.8, learning_rate=0.05, max_depth=5, min_child_weight=5, subsample=0.6;, score=(train=-0.224, test=-0.237) total time= 4.9min\n",
      "[CV 2/2] END colsample_bytree=0.8, learning_rate=0.05, max_depth=5, min_child_weight=5, subsample=0.6;, score=(train=-0.224, test=-0.237) total time= 5.0min\n",
      "[CV 1/2] END colsample_bytree=0.8, learning_rate=0.05, max_depth=5, min_child_weight=5, subsample=0.8;, score=(train=-0.224, test=-0.238) total time= 5.8min\n",
      "[CV 2/2] END colsample_bytree=0.8, learning_rate=0.05, max_depth=5, min_child_weight=5, subsample=0.8;, score=(train=-0.223, test=-0.237) total time= 5.8min\n",
      "[CV 1/2] END colsample_bytree=0.8, learning_rate=0.05, max_depth=5, min_child_weight=10, subsample=0.6;, score=(train=-0.225, test=-0.237) total time= 4.9min\n",
      "[CV 2/2] END colsample_bytree=0.8, learning_rate=0.05, max_depth=5, min_child_weight=10, subsample=0.6;, score=(train=-0.224, test=-0.237) total time= 4.9min\n",
      "[CV 1/2] END colsample_bytree=0.8, learning_rate=0.05, max_depth=5, min_child_weight=10, subsample=0.8;, score=(train=-0.224, test=-0.238) total time= 5.8min\n",
      "[CV 2/2] END colsample_bytree=0.8, learning_rate=0.05, max_depth=5, min_child_weight=10, subsample=0.8;, score=(train=-0.224, test=-0.237) total time= 5.8min\n",
      "[CV 1/2] END colsample_bytree=0.8, learning_rate=0.1, max_depth=3, min_child_weight=5, subsample=0.6;, score=(train=-0.227, test=-0.234) total time= 3.1min\n",
      "[CV 2/2] END colsample_bytree=0.8, learning_rate=0.1, max_depth=3, min_child_weight=5, subsample=0.6;, score=(train=-0.226, test=-0.233) total time= 3.1min\n",
      "[CV 1/2] END colsample_bytree=0.8, learning_rate=0.1, max_depth=3, min_child_weight=5, subsample=0.8;, score=(train=-0.227, test=-0.235) total time= 3.6min\n",
      "[CV 2/2] END colsample_bytree=0.8, learning_rate=0.1, max_depth=3, min_child_weight=5, subsample=0.8;, score=(train=-0.226, test=-0.233) total time= 3.6min\n",
      "[CV 1/2] END colsample_bytree=0.8, learning_rate=0.1, max_depth=3, min_child_weight=10, subsample=0.6;, score=(train=-0.227, test=-0.234) total time= 3.1min\n",
      "[CV 2/2] END colsample_bytree=0.8, learning_rate=0.1, max_depth=3, min_child_weight=10, subsample=0.6;, score=(train=-0.226, test=-0.234) total time= 3.1min\n",
      "[CV 1/2] END colsample_bytree=0.8, learning_rate=0.1, max_depth=3, min_child_weight=10, subsample=0.8;, score=(train=-0.227, test=-0.234) total time= 3.6min\n",
      "[CV 2/2] END colsample_bytree=0.8, learning_rate=0.1, max_depth=3, min_child_weight=10, subsample=0.8;, score=(train=-0.226, test=-0.233) total time= 3.6min\n",
      "[CV 1/2] END colsample_bytree=0.8, learning_rate=0.1, max_depth=4, min_child_weight=5, subsample=0.6;, score=(train=-0.215, test=-0.230) total time= 4.0min\n",
      "[CV 2/2] END colsample_bytree=0.8, learning_rate=0.1, max_depth=4, min_child_weight=5, subsample=0.6;, score=(train=-0.215, test=-0.230) total time= 4.0min\n",
      "[CV 1/2] END colsample_bytree=0.8, learning_rate=0.1, max_depth=4, min_child_weight=5, subsample=0.8;, score=(train=-0.216, test=-0.230) total time= 4.7min\n",
      "[CV 2/2] END colsample_bytree=0.8, learning_rate=0.1, max_depth=4, min_child_weight=5, subsample=0.8;, score=(train=-0.215, test=-0.230) total time= 4.7min\n",
      "[CV 1/2] END colsample_bytree=0.8, learning_rate=0.1, max_depth=4, min_child_weight=10, subsample=0.6;, score=(train=-0.215, test=-0.230) total time= 4.0min\n",
      "[CV 2/2] END colsample_bytree=0.8, learning_rate=0.1, max_depth=4, min_child_weight=10, subsample=0.6;, score=(train=-0.215, test=-0.230) total time= 4.0min\n",
      "[CV 1/2] END colsample_bytree=0.8, learning_rate=0.1, max_depth=4, min_child_weight=10, subsample=0.8;, score=(train=-0.216, test=-0.230) total time= 4.7min\n",
      "[CV 2/2] END colsample_bytree=0.8, learning_rate=0.1, max_depth=4, min_child_weight=10, subsample=0.8;, score=(train=-0.215, test=-0.230) total time= 4.7min\n",
      "[CV 1/2] END colsample_bytree=0.8, learning_rate=0.1, max_depth=5, min_child_weight=5, subsample=0.6;, score=(train=-0.202, test=-0.229) total time= 5.0min\n",
      "[CV 2/2] END colsample_bytree=0.8, learning_rate=0.1, max_depth=5, min_child_weight=5, subsample=0.6;, score=(train=-0.201, test=-0.228) total time= 5.0min\n",
      "[CV 1/2] END colsample_bytree=0.8, learning_rate=0.1, max_depth=5, min_child_weight=5, subsample=0.8;, score=(train=-0.201, test=-0.229) total time= 5.8min\n",
      "[CV 2/2] END colsample_bytree=0.8, learning_rate=0.1, max_depth=5, min_child_weight=5, subsample=0.8;, score=(train=-0.201, test=-0.228) total time= 5.8min\n",
      "[CV 1/2] END colsample_bytree=0.8, learning_rate=0.1, max_depth=5, min_child_weight=10, subsample=0.6;, score=(train=-0.204, test=-0.229) total time= 4.9min\n",
      "[CV 2/2] END colsample_bytree=0.8, learning_rate=0.1, max_depth=5, min_child_weight=10, subsample=0.6;, score=(train=-0.202, test=-0.228) total time= 4.9min\n",
      "[CV 1/2] END colsample_bytree=0.8, learning_rate=0.1, max_depth=5, min_child_weight=10, subsample=0.8;, score=(train=-0.202, test=-0.229) total time= 5.8min\n",
      "[CV 2/2] END colsample_bytree=0.8, learning_rate=0.1, max_depth=5, min_child_weight=10, subsample=0.8;, score=(train=-0.202, test=-0.228) total time= 5.8min\n"
     ]
    },
    {
     "data": {
      "text/plain": [
       "GridSearchCV(cv=2,\n",
       "             estimator=XGBClassifier(base_score=0.5, booster='gbtree',\n",
       "                                     callbacks=None, colsample_bylevel=1,\n",
       "                                     colsample_bynode=1, colsample_bytree=1,\n",
       "                                     early_stopping_rounds=None,\n",
       "                                     enable_categorical=False, eval_metric=None,\n",
       "                                     gamma=0, gpu_id=-1,\n",
       "                                     grow_policy='depthwise',\n",
       "                                     importance_type=None,\n",
       "                                     interaction_constraints='',\n",
       "                                     learning_rate=0.300000012, max_bin=256,\n",
       "                                     max_ca...\n",
       "                                     min_child_weight=1, missing=nan,\n",
       "                                     monotone_constraints='()',\n",
       "                                     n_estimators=100, n_jobs=0,\n",
       "                                     num_parallel_tree=1, predictor='auto',\n",
       "                                     random_state=0, reg_alpha=0, reg_lambda=1, ...),\n",
       "             param_grid={'colsample_bytree': [0.6, 0.8],\n",
       "                         'learning_rate': [0.05, 0.1], 'max_depth': [3, 4, 5],\n",
       "                         'min_child_weight': [5, 10], 'subsample': [0.6, 0.8]},\n",
       "             return_train_score=True, scoring='neg_log_loss', verbose=3)"
      ]
     },
     "execution_count": 44,
     "metadata": {},
     "output_type": "execute_result"
    }
   ],
   "source": [
    "clf.fit(train_X, train_y)"
   ]
  },
  {
   "cell_type": "code",
   "execution_count": 25,
   "id": "5d56b474",
   "metadata": {},
   "outputs": [],
   "source": [
    "def bo_tune_xgb(max_depth, gamma, learning_rate,\n",
    "                subsample, colsample_bytree):\n",
    "    \n",
    "    params = {'max_depth': int(max_depth),\n",
    "              'gamma': gamma,\n",
    "              'learning_rate': learning_rate,\n",
    "              'subsample': subsample,\n",
    "              'colsample_bytree': colsample_bytree,\n",
    "              'objective': 'binary:logistic',\n",
    "              'eval_metric': 'logloss',\n",
    "              'early_stopping_rounds': 10}\n",
    "    \n",
    "    cv_result = xgb.cv(params, train_matrix,\n",
    "                       num_boost_round=1_000,\n",
    "                       nfold=3)\n",
    "    \n",
    "    return cv_result"
   ]
  },
  {
   "cell_type": "code",
   "execution_count": 21,
   "id": "84e37525",
   "metadata": {},
   "outputs": [],
   "source": [
    "xgb_bo = BayesianOptimization(bo_tune_xgb, {'max_depth': (3, 5),\n",
    "                                            'gamma': (0,5),\n",
    "                                            'learning_rate': (0.05, 0.15),\n",
    "                                            'subsample': (0.5, 0.9),\n",
    "                                            'colsample_bytree': (0.5, 0.9)})"
   ]
  },
  {
   "cell_type": "code",
   "execution_count": 22,
   "id": "7761f79a",
   "metadata": {},
   "outputs": [
    {
     "name": "stdout",
     "output_type": "stream",
     "text": [
      "|   iter    |  target   | colsam... |   gamma   | learni... | max_depth | subsample |\n",
      "-------------------------------------------------------------------------------------\n",
      "[17:28:21] WARNING: /Users/runner/work/xgboost/xgboost/python-package/build/temp.macosx-10.9-x86_64-3.7/xgboost/src/learner.cc:627: \n",
      "Parameters: { \"early_stopping_rounds\" } might not be used.\n",
      "\n",
      "  This could be a false alarm, with some parameters getting used by language bindings but\n",
      "  then being mistakenly passed down to XGBoost core, or some parameter actually being used\n",
      "  but getting flagged wrongly here. Please open an issue if you find any such cases.\n",
      "\n",
      "\n",
      "[17:28:30] WARNING: /Users/runner/work/xgboost/xgboost/python-package/build/temp.macosx-10.9-x86_64-3.7/xgboost/src/learner.cc:627: \n",
      "Parameters: { \"early_stopping_rounds\" } might not be used.\n",
      "\n",
      "  This could be a false alarm, with some parameters getting used by language bindings but\n",
      "  then being mistakenly passed down to XGBoost core, or some parameter actually being used\n",
      "  but getting flagged wrongly here. Please open an issue if you find any such cases.\n",
      "\n",
      "\n",
      "[17:28:39] WARNING: /Users/runner/work/xgboost/xgboost/python-package/build/temp.macosx-10.9-x86_64-3.7/xgboost/src/learner.cc:627: \n",
      "Parameters: { \"early_stopping_rounds\" } might not be used.\n",
      "\n",
      "  This could be a false alarm, with some parameters getting used by language bindings but\n",
      "  then being mistakenly passed down to XGBoost core, or some parameter actually being used\n",
      "  but getting flagged wrongly here. Please open an issue if you find any such cases.\n",
      "\n",
      "\n"
     ]
    },
    {
     "ename": "ValueError",
     "evalue": "all the input arrays must have same number of dimensions, but the array at index 0 has 1 dimension(s) and the array at index 1 has 3 dimension(s)",
     "output_type": "error",
     "traceback": [
      "\u001b[0;31m---------------------------------------------------------------------------\u001b[0m",
      "\u001b[0;31mKeyError\u001b[0m                                  Traceback (most recent call last)",
      "File \u001b[0;32m/usr/local/anaconda3/lib/python3.9/site-packages/bayes_opt/target_space.py:191\u001b[0m, in \u001b[0;36mTargetSpace.probe\u001b[0;34m(self, params)\u001b[0m\n\u001b[1;32m    190\u001b[0m \u001b[38;5;28;01mtry\u001b[39;00m:\n\u001b[0;32m--> 191\u001b[0m     target \u001b[38;5;241m=\u001b[39m \u001b[38;5;28;43mself\u001b[39;49m\u001b[38;5;241;43m.\u001b[39;49m\u001b[43m_cache\u001b[49m\u001b[43m[\u001b[49m\u001b[43m_hashable\u001b[49m\u001b[43m(\u001b[49m\u001b[43mx\u001b[49m\u001b[43m)\u001b[49m\u001b[43m]\u001b[49m\n\u001b[1;32m    192\u001b[0m \u001b[38;5;28;01mexcept\u001b[39;00m \u001b[38;5;167;01mKeyError\u001b[39;00m:\n",
      "\u001b[0;31mKeyError\u001b[0m: (0.8511784605573942, 4.274113416607769, 0.06464913001517451, 4.70674922098701, 0.760594927036577)",
      "\nDuring handling of the above exception, another exception occurred:\n",
      "\u001b[0;31mValueError\u001b[0m                                Traceback (most recent call last)",
      "Input \u001b[0;32mIn [22]\u001b[0m, in \u001b[0;36m<cell line: 1>\u001b[0;34m()\u001b[0m\n\u001b[0;32m----> 1\u001b[0m \u001b[43mxgb_bo\u001b[49m\u001b[38;5;241;43m.\u001b[39;49m\u001b[43mmaximize\u001b[49m\u001b[43m(\u001b[49m\u001b[43mn_iter\u001b[49m\u001b[38;5;241;43m=\u001b[39;49m\u001b[38;5;241;43m2\u001b[39;49m\u001b[43m,\u001b[49m\u001b[43m \u001b[49m\u001b[43minit_points\u001b[49m\u001b[38;5;241;43m=\u001b[39;49m\u001b[38;5;241;43m8\u001b[39;49m\u001b[43m,\u001b[49m\u001b[43m \u001b[49m\u001b[43macq\u001b[49m\u001b[38;5;241;43m=\u001b[39;49m\u001b[38;5;124;43m'\u001b[39;49m\u001b[38;5;124;43mei\u001b[39;49m\u001b[38;5;124;43m'\u001b[39;49m\u001b[43m)\u001b[49m\n",
      "File \u001b[0;32m/usr/local/anaconda3/lib/python3.9/site-packages/bayes_opt/bayesian_optimization.py:185\u001b[0m, in \u001b[0;36mBayesianOptimization.maximize\u001b[0;34m(self, init_points, n_iter, acq, kappa, kappa_decay, kappa_decay_delay, xi, **gp_params)\u001b[0m\n\u001b[1;32m    182\u001b[0m     x_probe \u001b[38;5;241m=\u001b[39m \u001b[38;5;28mself\u001b[39m\u001b[38;5;241m.\u001b[39msuggest(util)\n\u001b[1;32m    183\u001b[0m     iteration \u001b[38;5;241m+\u001b[39m\u001b[38;5;241m=\u001b[39m \u001b[38;5;241m1\u001b[39m\n\u001b[0;32m--> 185\u001b[0m \u001b[38;5;28;43mself\u001b[39;49m\u001b[38;5;241;43m.\u001b[39;49m\u001b[43mprobe\u001b[49m\u001b[43m(\u001b[49m\u001b[43mx_probe\u001b[49m\u001b[43m,\u001b[49m\u001b[43m \u001b[49m\u001b[43mlazy\u001b[49m\u001b[38;5;241;43m=\u001b[39;49m\u001b[38;5;28;43;01mFalse\u001b[39;49;00m\u001b[43m)\u001b[49m\n\u001b[1;32m    187\u001b[0m \u001b[38;5;28;01mif\u001b[39;00m \u001b[38;5;28mself\u001b[39m\u001b[38;5;241m.\u001b[39m_bounds_transformer:\n\u001b[1;32m    188\u001b[0m     \u001b[38;5;28mself\u001b[39m\u001b[38;5;241m.\u001b[39mset_bounds(\n\u001b[1;32m    189\u001b[0m         \u001b[38;5;28mself\u001b[39m\u001b[38;5;241m.\u001b[39m_bounds_transformer\u001b[38;5;241m.\u001b[39mtransform(\u001b[38;5;28mself\u001b[39m\u001b[38;5;241m.\u001b[39m_space))\n",
      "File \u001b[0;32m/usr/local/anaconda3/lib/python3.9/site-packages/bayes_opt/bayesian_optimization.py:116\u001b[0m, in \u001b[0;36mBayesianOptimization.probe\u001b[0;34m(self, params, lazy)\u001b[0m\n\u001b[1;32m    114\u001b[0m     \u001b[38;5;28mself\u001b[39m\u001b[38;5;241m.\u001b[39m_queue\u001b[38;5;241m.\u001b[39madd(params)\n\u001b[1;32m    115\u001b[0m \u001b[38;5;28;01melse\u001b[39;00m:\n\u001b[0;32m--> 116\u001b[0m     \u001b[38;5;28;43mself\u001b[39;49m\u001b[38;5;241;43m.\u001b[39;49m\u001b[43m_space\u001b[49m\u001b[38;5;241;43m.\u001b[39;49m\u001b[43mprobe\u001b[49m\u001b[43m(\u001b[49m\u001b[43mparams\u001b[49m\u001b[43m)\u001b[49m\n\u001b[1;32m    117\u001b[0m     \u001b[38;5;28mself\u001b[39m\u001b[38;5;241m.\u001b[39mdispatch(Events\u001b[38;5;241m.\u001b[39mOPTIMIZATION_STEP)\n",
      "File \u001b[0;32m/usr/local/anaconda3/lib/python3.9/site-packages/bayes_opt/target_space.py:195\u001b[0m, in \u001b[0;36mTargetSpace.probe\u001b[0;34m(self, params)\u001b[0m\n\u001b[1;32m    193\u001b[0m     params \u001b[38;5;241m=\u001b[39m \u001b[38;5;28mdict\u001b[39m(\u001b[38;5;28mzip\u001b[39m(\u001b[38;5;28mself\u001b[39m\u001b[38;5;241m.\u001b[39m_keys, x))\n\u001b[1;32m    194\u001b[0m     target \u001b[38;5;241m=\u001b[39m \u001b[38;5;28mself\u001b[39m\u001b[38;5;241m.\u001b[39mtarget_func(\u001b[38;5;241m*\u001b[39m\u001b[38;5;241m*\u001b[39mparams)\n\u001b[0;32m--> 195\u001b[0m     \u001b[38;5;28;43mself\u001b[39;49m\u001b[38;5;241;43m.\u001b[39;49m\u001b[43mregister\u001b[49m\u001b[43m(\u001b[49m\u001b[43mx\u001b[49m\u001b[43m,\u001b[49m\u001b[43m \u001b[49m\u001b[43mtarget\u001b[49m\u001b[43m)\u001b[49m\n\u001b[1;32m    196\u001b[0m \u001b[38;5;28;01mreturn\u001b[39;00m target\n",
      "File \u001b[0;32m/usr/local/anaconda3/lib/python3.9/site-packages/bayes_opt/target_space.py:167\u001b[0m, in \u001b[0;36mTargetSpace.register\u001b[0;34m(self, params, target)\u001b[0m\n\u001b[1;32m    164\u001b[0m \u001b[38;5;28mself\u001b[39m\u001b[38;5;241m.\u001b[39m_cache[_hashable(x\u001b[38;5;241m.\u001b[39mravel())] \u001b[38;5;241m=\u001b[39m target\n\u001b[1;32m    166\u001b[0m \u001b[38;5;28mself\u001b[39m\u001b[38;5;241m.\u001b[39m_params \u001b[38;5;241m=\u001b[39m np\u001b[38;5;241m.\u001b[39mconcatenate([\u001b[38;5;28mself\u001b[39m\u001b[38;5;241m.\u001b[39m_params, x\u001b[38;5;241m.\u001b[39mreshape(\u001b[38;5;241m1\u001b[39m, \u001b[38;5;241m-\u001b[39m\u001b[38;5;241m1\u001b[39m)])\n\u001b[0;32m--> 167\u001b[0m \u001b[38;5;28mself\u001b[39m\u001b[38;5;241m.\u001b[39m_target \u001b[38;5;241m=\u001b[39m \u001b[43mnp\u001b[49m\u001b[38;5;241;43m.\u001b[39;49m\u001b[43mconcatenate\u001b[49m\u001b[43m(\u001b[49m\u001b[43m[\u001b[49m\u001b[38;5;28;43mself\u001b[39;49m\u001b[38;5;241;43m.\u001b[39;49m\u001b[43m_target\u001b[49m\u001b[43m,\u001b[49m\u001b[43m \u001b[49m\u001b[43m[\u001b[49m\u001b[43mtarget\u001b[49m\u001b[43m]\u001b[49m\u001b[43m]\u001b[49m\u001b[43m)\u001b[49m\n",
      "File \u001b[0;32m<__array_function__ internals>:5\u001b[0m, in \u001b[0;36mconcatenate\u001b[0;34m(*args, **kwargs)\u001b[0m\n",
      "\u001b[0;31mValueError\u001b[0m: all the input arrays must have same number of dimensions, but the array at index 0 has 1 dimension(s) and the array at index 1 has 3 dimension(s)"
     ]
    }
   ],
   "source": [
    "xgb_bo.maximize(n_iter=2, init_points=8, acq='ei')"
   ]
  },
  {
   "cell_type": "code",
   "execution_count": null,
   "id": "add8e29a",
   "metadata": {},
   "outputs": [],
   "source": []
  }
 ],
 "metadata": {
  "kernelspec": {
   "display_name": "Python 3 (ipykernel)",
   "language": "python",
   "name": "python3"
  },
  "language_info": {
   "codemirror_mode": {
    "name": "ipython",
    "version": 3
   },
   "file_extension": ".py",
   "mimetype": "text/x-python",
   "name": "python",
   "nbconvert_exporter": "python",
   "pygments_lexer": "ipython3",
   "version": "3.9.12"
  }
 },
 "nbformat": 4,
 "nbformat_minor": 5
}
